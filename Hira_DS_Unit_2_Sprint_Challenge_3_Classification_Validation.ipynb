{
  "nbformat": 4,
  "nbformat_minor": 0,
  "metadata": {
    "colab": {
      "name": "Hira DS_Unit_2_Sprint_Challenge_3_Classification_Validation.ipynb",
      "version": "0.3.2",
      "provenance": [],
      "collapsed_sections": [],
      "include_colab_link": true
    },
    "language_info": {
      "codemirror_mode": {
        "name": "ipython",
        "version": 3
      },
      "file_extension": ".py",
      "mimetype": "text/x-python",
      "name": "python",
      "nbconvert_exporter": "python",
      "pygments_lexer": "ipython3",
      "version": "3.7.1"
    },
    "kernelspec": {
      "display_name": "Python 3",
      "language": "python",
      "name": "python3"
    }
  },
  "cells": [
    {
      "cell_type": "markdown",
      "metadata": {
        "id": "view-in-github",
        "colab_type": "text"
      },
      "source": [
        "<a href=\"https://colab.research.google.com/github/Hira63S/DS-Unit-2-Sprint-3-Classification-Validation/blob/master/Hira_DS_Unit_2_Sprint_Challenge_3_Classification_Validation.ipynb\" target=\"_parent\"><img src=\"https://colab.research.google.com/assets/colab-badge.svg\" alt=\"Open In Colab\"/></a>"
      ]
    },
    {
      "cell_type": "markdown",
      "metadata": {
        "colab_type": "text",
        "id": "PC9RfopIWrc9"
      },
      "source": [
        " _Lambda School Data Science Unit 2_\n",
        " \n",
        " # Classification & Validation Sprint Challenge"
      ]
    },
    {
      "cell_type": "markdown",
      "metadata": {
        "colab_type": "text",
        "id": "UV7ArLFQN84W"
      },
      "source": [
        "Follow the instructions for each numbered part to earn a score of 2. See the bottom of the notebook for a list of ways you can earn a score of 3."
      ]
    },
    {
      "cell_type": "markdown",
      "metadata": {
        "colab_type": "text",
        "id": "bAZcbTtiUlkI"
      },
      "source": [
        "#### For this Sprint Challenge, you'll predict whether a person's income exceeds $50k/yr, based on census data.\n",
        "\n",
        "You can read more about the Adult Census Income dataset at the UCI Machine Learning Repository: https://archive.ics.uci.edu/ml/datasets/adult"
      ]
    },
    {
      "cell_type": "markdown",
      "metadata": {
        "id": "PmUMGkc1Q0zy",
        "colab_type": "text"
      },
      "source": [
        "#### Run this cell to load the data:"
      ]
    },
    {
      "cell_type": "code",
      "metadata": {
        "colab_type": "code",
        "id": "gvV9VORbxyvu",
        "colab": {}
      },
      "source": [
        "import pandas as pd\n",
        "\n",
        "columns = ['age', \n",
        "           'workclass', \n",
        "           'fnlwgt', \n",
        "           'education', \n",
        "           'education-num', \n",
        "           'marital-status', \n",
        "           'occupation', \n",
        "           'relationship', \n",
        "           'race', \n",
        "           'sex', \n",
        "           'capital-gain', \n",
        "           'capital-loss', \n",
        "           'hours-per-week', \n",
        "           'native-country', \n",
        "           'income']\n",
        "\n",
        "df = pd.read_csv('https://archive.ics.uci.edu/ml/machine-learning-databases/adult/adult.data', \n",
        "                 header=None, names=columns)\n",
        "\n",
        "df['income'] = df['income'].str.strip()"
      ],
      "execution_count": 0,
      "outputs": []
    },
    {
      "cell_type": "code",
      "metadata": {
        "id": "DFvj0WD9RMbD",
        "colab_type": "code",
        "colab": {
          "base_uri": "https://localhost:8080/",
          "height": 383
        },
        "outputId": "6314742f-54ae-47d4-eab5-ddad3936155a"
      },
      "source": [
        "df.head()"
      ],
      "execution_count": 231,
      "outputs": [
        {
          "output_type": "execute_result",
          "data": {
            "text/html": [
              "<div>\n",
              "<style scoped>\n",
              "    .dataframe tbody tr th:only-of-type {\n",
              "        vertical-align: middle;\n",
              "    }\n",
              "\n",
              "    .dataframe tbody tr th {\n",
              "        vertical-align: top;\n",
              "    }\n",
              "\n",
              "    .dataframe thead th {\n",
              "        text-align: right;\n",
              "    }\n",
              "</style>\n",
              "<table border=\"1\" class=\"dataframe\">\n",
              "  <thead>\n",
              "    <tr style=\"text-align: right;\">\n",
              "      <th></th>\n",
              "      <th>age</th>\n",
              "      <th>workclass</th>\n",
              "      <th>fnlwgt</th>\n",
              "      <th>education</th>\n",
              "      <th>education-num</th>\n",
              "      <th>marital-status</th>\n",
              "      <th>occupation</th>\n",
              "      <th>relationship</th>\n",
              "      <th>race</th>\n",
              "      <th>sex</th>\n",
              "      <th>capital-gain</th>\n",
              "      <th>capital-loss</th>\n",
              "      <th>hours-per-week</th>\n",
              "      <th>native-country</th>\n",
              "      <th>income</th>\n",
              "    </tr>\n",
              "  </thead>\n",
              "  <tbody>\n",
              "    <tr>\n",
              "      <th>0</th>\n",
              "      <td>39</td>\n",
              "      <td>State-gov</td>\n",
              "      <td>77516</td>\n",
              "      <td>Bachelors</td>\n",
              "      <td>13</td>\n",
              "      <td>Never-married</td>\n",
              "      <td>Adm-clerical</td>\n",
              "      <td>Not-in-family</td>\n",
              "      <td>White</td>\n",
              "      <td>Male</td>\n",
              "      <td>2174</td>\n",
              "      <td>0</td>\n",
              "      <td>40</td>\n",
              "      <td>United-States</td>\n",
              "      <td>&lt;=50K</td>\n",
              "    </tr>\n",
              "    <tr>\n",
              "      <th>1</th>\n",
              "      <td>50</td>\n",
              "      <td>Self-emp-not-inc</td>\n",
              "      <td>83311</td>\n",
              "      <td>Bachelors</td>\n",
              "      <td>13</td>\n",
              "      <td>Married-civ-spouse</td>\n",
              "      <td>Exec-managerial</td>\n",
              "      <td>Husband</td>\n",
              "      <td>White</td>\n",
              "      <td>Male</td>\n",
              "      <td>0</td>\n",
              "      <td>0</td>\n",
              "      <td>13</td>\n",
              "      <td>United-States</td>\n",
              "      <td>&lt;=50K</td>\n",
              "    </tr>\n",
              "    <tr>\n",
              "      <th>2</th>\n",
              "      <td>38</td>\n",
              "      <td>Private</td>\n",
              "      <td>215646</td>\n",
              "      <td>HS-grad</td>\n",
              "      <td>9</td>\n",
              "      <td>Divorced</td>\n",
              "      <td>Handlers-cleaners</td>\n",
              "      <td>Not-in-family</td>\n",
              "      <td>White</td>\n",
              "      <td>Male</td>\n",
              "      <td>0</td>\n",
              "      <td>0</td>\n",
              "      <td>40</td>\n",
              "      <td>United-States</td>\n",
              "      <td>&lt;=50K</td>\n",
              "    </tr>\n",
              "    <tr>\n",
              "      <th>3</th>\n",
              "      <td>53</td>\n",
              "      <td>Private</td>\n",
              "      <td>234721</td>\n",
              "      <td>11th</td>\n",
              "      <td>7</td>\n",
              "      <td>Married-civ-spouse</td>\n",
              "      <td>Handlers-cleaners</td>\n",
              "      <td>Husband</td>\n",
              "      <td>Black</td>\n",
              "      <td>Male</td>\n",
              "      <td>0</td>\n",
              "      <td>0</td>\n",
              "      <td>40</td>\n",
              "      <td>United-States</td>\n",
              "      <td>&lt;=50K</td>\n",
              "    </tr>\n",
              "    <tr>\n",
              "      <th>4</th>\n",
              "      <td>28</td>\n",
              "      <td>Private</td>\n",
              "      <td>338409</td>\n",
              "      <td>Bachelors</td>\n",
              "      <td>13</td>\n",
              "      <td>Married-civ-spouse</td>\n",
              "      <td>Prof-specialty</td>\n",
              "      <td>Wife</td>\n",
              "      <td>Black</td>\n",
              "      <td>Female</td>\n",
              "      <td>0</td>\n",
              "      <td>0</td>\n",
              "      <td>40</td>\n",
              "      <td>Cuba</td>\n",
              "      <td>&lt;=50K</td>\n",
              "    </tr>\n",
              "  </tbody>\n",
              "</table>\n",
              "</div>"
            ],
            "text/plain": [
              "   age          workclass  fnlwgt   education  education-num  \\\n",
              "0   39          State-gov   77516   Bachelors             13   \n",
              "1   50   Self-emp-not-inc   83311   Bachelors             13   \n",
              "2   38            Private  215646     HS-grad              9   \n",
              "3   53            Private  234721        11th              7   \n",
              "4   28            Private  338409   Bachelors             13   \n",
              "\n",
              "        marital-status          occupation    relationship    race      sex  \\\n",
              "0        Never-married        Adm-clerical   Not-in-family   White     Male   \n",
              "1   Married-civ-spouse     Exec-managerial         Husband   White     Male   \n",
              "2             Divorced   Handlers-cleaners   Not-in-family   White     Male   \n",
              "3   Married-civ-spouse   Handlers-cleaners         Husband   Black     Male   \n",
              "4   Married-civ-spouse      Prof-specialty            Wife   Black   Female   \n",
              "\n",
              "   capital-gain  capital-loss  hours-per-week  native-country income  \n",
              "0          2174             0              40   United-States  <=50K  \n",
              "1             0             0              13   United-States  <=50K  \n",
              "2             0             0              40   United-States  <=50K  \n",
              "3             0             0              40   United-States  <=50K  \n",
              "4             0             0              40            Cuba  <=50K  "
            ]
          },
          "metadata": {
            "tags": []
          },
          "execution_count": 231
        }
      ]
    },
    {
      "cell_type": "code",
      "metadata": {
        "id": "uvRO__Znhi6V",
        "colab_type": "code",
        "colab": {
          "base_uri": "https://localhost:8080/",
          "height": 301
        },
        "outputId": "899b3677-46ce-443d-9c0e-8a6ea32f25f5"
      },
      "source": [
        "df.describe(include='number')"
      ],
      "execution_count": 232,
      "outputs": [
        {
          "output_type": "execute_result",
          "data": {
            "text/html": [
              "<div>\n",
              "<style scoped>\n",
              "    .dataframe tbody tr th:only-of-type {\n",
              "        vertical-align: middle;\n",
              "    }\n",
              "\n",
              "    .dataframe tbody tr th {\n",
              "        vertical-align: top;\n",
              "    }\n",
              "\n",
              "    .dataframe thead th {\n",
              "        text-align: right;\n",
              "    }\n",
              "</style>\n",
              "<table border=\"1\" class=\"dataframe\">\n",
              "  <thead>\n",
              "    <tr style=\"text-align: right;\">\n",
              "      <th></th>\n",
              "      <th>age</th>\n",
              "      <th>fnlwgt</th>\n",
              "      <th>education-num</th>\n",
              "      <th>capital-gain</th>\n",
              "      <th>capital-loss</th>\n",
              "      <th>hours-per-week</th>\n",
              "    </tr>\n",
              "  </thead>\n",
              "  <tbody>\n",
              "    <tr>\n",
              "      <th>count</th>\n",
              "      <td>32561.000000</td>\n",
              "      <td>3.256100e+04</td>\n",
              "      <td>32561.000000</td>\n",
              "      <td>32561.000000</td>\n",
              "      <td>32561.000000</td>\n",
              "      <td>32561.000000</td>\n",
              "    </tr>\n",
              "    <tr>\n",
              "      <th>mean</th>\n",
              "      <td>38.581647</td>\n",
              "      <td>1.897784e+05</td>\n",
              "      <td>10.080679</td>\n",
              "      <td>1077.648844</td>\n",
              "      <td>87.303830</td>\n",
              "      <td>40.437456</td>\n",
              "    </tr>\n",
              "    <tr>\n",
              "      <th>std</th>\n",
              "      <td>13.640433</td>\n",
              "      <td>1.055500e+05</td>\n",
              "      <td>2.572720</td>\n",
              "      <td>7385.292085</td>\n",
              "      <td>402.960219</td>\n",
              "      <td>12.347429</td>\n",
              "    </tr>\n",
              "    <tr>\n",
              "      <th>min</th>\n",
              "      <td>17.000000</td>\n",
              "      <td>1.228500e+04</td>\n",
              "      <td>1.000000</td>\n",
              "      <td>0.000000</td>\n",
              "      <td>0.000000</td>\n",
              "      <td>1.000000</td>\n",
              "    </tr>\n",
              "    <tr>\n",
              "      <th>25%</th>\n",
              "      <td>28.000000</td>\n",
              "      <td>1.178270e+05</td>\n",
              "      <td>9.000000</td>\n",
              "      <td>0.000000</td>\n",
              "      <td>0.000000</td>\n",
              "      <td>40.000000</td>\n",
              "    </tr>\n",
              "    <tr>\n",
              "      <th>50%</th>\n",
              "      <td>37.000000</td>\n",
              "      <td>1.783560e+05</td>\n",
              "      <td>10.000000</td>\n",
              "      <td>0.000000</td>\n",
              "      <td>0.000000</td>\n",
              "      <td>40.000000</td>\n",
              "    </tr>\n",
              "    <tr>\n",
              "      <th>75%</th>\n",
              "      <td>48.000000</td>\n",
              "      <td>2.370510e+05</td>\n",
              "      <td>12.000000</td>\n",
              "      <td>0.000000</td>\n",
              "      <td>0.000000</td>\n",
              "      <td>45.000000</td>\n",
              "    </tr>\n",
              "    <tr>\n",
              "      <th>max</th>\n",
              "      <td>90.000000</td>\n",
              "      <td>1.484705e+06</td>\n",
              "      <td>16.000000</td>\n",
              "      <td>99999.000000</td>\n",
              "      <td>4356.000000</td>\n",
              "      <td>99.000000</td>\n",
              "    </tr>\n",
              "  </tbody>\n",
              "</table>\n",
              "</div>"
            ],
            "text/plain": [
              "                age        fnlwgt  education-num  capital-gain  capital-loss  \\\n",
              "count  32561.000000  3.256100e+04   32561.000000  32561.000000  32561.000000   \n",
              "mean      38.581647  1.897784e+05      10.080679   1077.648844     87.303830   \n",
              "std       13.640433  1.055500e+05       2.572720   7385.292085    402.960219   \n",
              "min       17.000000  1.228500e+04       1.000000      0.000000      0.000000   \n",
              "25%       28.000000  1.178270e+05       9.000000      0.000000      0.000000   \n",
              "50%       37.000000  1.783560e+05      10.000000      0.000000      0.000000   \n",
              "75%       48.000000  2.370510e+05      12.000000      0.000000      0.000000   \n",
              "max       90.000000  1.484705e+06      16.000000  99999.000000   4356.000000   \n",
              "\n",
              "       hours-per-week  \n",
              "count    32561.000000  \n",
              "mean        40.437456  \n",
              "std         12.347429  \n",
              "min          1.000000  \n",
              "25%         40.000000  \n",
              "50%         40.000000  \n",
              "75%         45.000000  \n",
              "max         99.000000  "
            ]
          },
          "metadata": {
            "tags": []
          },
          "execution_count": 232
        }
      ]
    },
    {
      "cell_type": "code",
      "metadata": {
        "id": "xOlPJAa0jYnM",
        "colab_type": "code",
        "colab": {
          "base_uri": "https://localhost:8080/",
          "height": 236
        },
        "outputId": "6473a600-a8fa-4337-b9e5-f991959255d8"
      },
      "source": [
        "df.describe(exclude='number')"
      ],
      "execution_count": 233,
      "outputs": [
        {
          "output_type": "execute_result",
          "data": {
            "text/html": [
              "<div>\n",
              "<style scoped>\n",
              "    .dataframe tbody tr th:only-of-type {\n",
              "        vertical-align: middle;\n",
              "    }\n",
              "\n",
              "    .dataframe tbody tr th {\n",
              "        vertical-align: top;\n",
              "    }\n",
              "\n",
              "    .dataframe thead th {\n",
              "        text-align: right;\n",
              "    }\n",
              "</style>\n",
              "<table border=\"1\" class=\"dataframe\">\n",
              "  <thead>\n",
              "    <tr style=\"text-align: right;\">\n",
              "      <th></th>\n",
              "      <th>workclass</th>\n",
              "      <th>education</th>\n",
              "      <th>marital-status</th>\n",
              "      <th>occupation</th>\n",
              "      <th>relationship</th>\n",
              "      <th>race</th>\n",
              "      <th>sex</th>\n",
              "      <th>native-country</th>\n",
              "      <th>income</th>\n",
              "    </tr>\n",
              "  </thead>\n",
              "  <tbody>\n",
              "    <tr>\n",
              "      <th>count</th>\n",
              "      <td>32561</td>\n",
              "      <td>32561</td>\n",
              "      <td>32561</td>\n",
              "      <td>32561</td>\n",
              "      <td>32561</td>\n",
              "      <td>32561</td>\n",
              "      <td>32561</td>\n",
              "      <td>32561</td>\n",
              "      <td>32561</td>\n",
              "    </tr>\n",
              "    <tr>\n",
              "      <th>unique</th>\n",
              "      <td>9</td>\n",
              "      <td>16</td>\n",
              "      <td>7</td>\n",
              "      <td>15</td>\n",
              "      <td>6</td>\n",
              "      <td>5</td>\n",
              "      <td>2</td>\n",
              "      <td>42</td>\n",
              "      <td>2</td>\n",
              "    </tr>\n",
              "    <tr>\n",
              "      <th>top</th>\n",
              "      <td>Private</td>\n",
              "      <td>HS-grad</td>\n",
              "      <td>Married-civ-spouse</td>\n",
              "      <td>Prof-specialty</td>\n",
              "      <td>Husband</td>\n",
              "      <td>White</td>\n",
              "      <td>Male</td>\n",
              "      <td>United-States</td>\n",
              "      <td>&lt;=50K</td>\n",
              "    </tr>\n",
              "    <tr>\n",
              "      <th>freq</th>\n",
              "      <td>22696</td>\n",
              "      <td>10501</td>\n",
              "      <td>14976</td>\n",
              "      <td>4140</td>\n",
              "      <td>13193</td>\n",
              "      <td>27816</td>\n",
              "      <td>21790</td>\n",
              "      <td>29170</td>\n",
              "      <td>24720</td>\n",
              "    </tr>\n",
              "  </tbody>\n",
              "</table>\n",
              "</div>"
            ],
            "text/plain": [
              "       workclass education       marital-status       occupation relationship  \\\n",
              "count      32561     32561                32561            32561        32561   \n",
              "unique         9        16                    7               15            6   \n",
              "top      Private   HS-grad   Married-civ-spouse   Prof-specialty      Husband   \n",
              "freq       22696     10501                14976             4140        13193   \n",
              "\n",
              "          race    sex  native-country income  \n",
              "count    32561  32561           32561  32561  \n",
              "unique       5      2              42      2  \n",
              "top      White   Male   United-States  <=50K  \n",
              "freq     27816  21790           29170  24720  "
            ]
          },
          "metadata": {
            "tags": []
          },
          "execution_count": 233
        }
      ]
    },
    {
      "cell_type": "markdown",
      "metadata": {
        "id": "xOnJK3myh3Of",
        "colab_type": "text"
      },
      "source": [
        "###So education number if already the representing the education?"
      ]
    },
    {
      "cell_type": "markdown",
      "metadata": {
        "id": "nN1w75-qQ0z1",
        "colab_type": "text"
      },
      "source": [
        "## Part 1 — Begin with baselines\n",
        "\n",
        "Split the data into an **X matrix** (all the features) and **y vector** (the target).\n",
        "\n",
        "(You _don't_ need to split the data into train and test sets here. You'll be asked to do that at the _end_ of Part 1.)"
      ]
    },
    {
      "cell_type": "code",
      "metadata": {
        "id": "wPNtl4dwQ0z3",
        "colab_type": "code",
        "colab": {}
      },
      "source": [
        "target = 'income'\n",
        "features = ['age',\n",
        " 'workclass',\n",
        " 'fnlwgt',\n",
        " 'education',\n",
        " 'education-num',\n",
        " 'marital-status',\n",
        " 'occupation',\n",
        " 'relationship',\n",
        " 'race',\n",
        " 'sex',\n",
        " 'capital-gain',\n",
        " 'capital-loss',\n",
        " 'hours-per-week',\n",
        " 'native-country']\n",
        "\n",
        "y = df[target]\n",
        "X = df[features]\n"
      ],
      "execution_count": 0,
      "outputs": []
    },
    {
      "cell_type": "markdown",
      "metadata": {
        "colab_type": "text",
        "id": "IxKfgx4ycb3c"
      },
      "source": [
        "What **accuracy score** would you get here with a **\"majority class baseline\"?** \n",
        " \n",
        "(You can answer this question either with a scikit-learn function or with a pandas function.)"
      ]
    },
    {
      "cell_type": "markdown",
      "metadata": {
        "id": "8SxOytU4R-YG",
        "colab_type": "text"
      },
      "source": [
        "###Majority Class Baseline###"
      ]
    },
    {
      "cell_type": "code",
      "metadata": {
        "id": "LxSzrX0mR93s",
        "colab_type": "code",
        "colab": {
          "base_uri": "https://localhost:8080/",
          "height": 67
        },
        "outputId": "6ff7e6ae-6cb8-46cd-88a6-e2bed7864a32"
      },
      "source": [
        "y.value_counts(normalize=True)"
      ],
      "execution_count": 235,
      "outputs": [
        {
          "output_type": "execute_result",
          "data": {
            "text/plain": [
              "<=50K    0.75919\n",
              ">50K     0.24081\n",
              "Name: income, dtype: float64"
            ]
          },
          "metadata": {
            "tags": []
          },
          "execution_count": 235
        }
      ]
    },
    {
      "cell_type": "code",
      "metadata": {
        "colab_type": "code",
        "id": "3oo31Remcq-x",
        "colab": {}
      },
      "source": [
        "majority_class = y.mode()[0] #which one happened the most\n",
        "\n",
        "y_predict = [majority_class] * len(y)"
      ],
      "execution_count": 0,
      "outputs": []
    },
    {
      "cell_type": "code",
      "metadata": {
        "id": "cYiAkUjiSmD3",
        "colab_type": "code",
        "colab": {
          "base_uri": "https://localhost:8080/",
          "height": 34
        },
        "outputId": "af731797-889b-4fa8-f798-eb318ee067e4"
      },
      "source": [
        "from sklearn.metrics import accuracy_score\n",
        "\n",
        "accuracy_score(y, y_predict)"
      ],
      "execution_count": 237,
      "outputs": [
        {
          "output_type": "execute_result",
          "data": {
            "text/plain": [
              "0.7591904425539756"
            ]
          },
          "metadata": {
            "tags": []
          },
          "execution_count": 237
        }
      ]
    },
    {
      "cell_type": "markdown",
      "metadata": {
        "id": "2LKpgcyUSvVj",
        "colab_type": "text"
      },
      "source": [
        "Since we haven't split the data yet we got the exact same accuracy score as with the value_counts method above. "
      ]
    },
    {
      "cell_type": "markdown",
      "metadata": {
        "colab_type": "text",
        "id": "_KdxE1TrcriI"
      },
      "source": [
        "What **ROC AUC score** would you get here with a **majority class baseline?**\n",
        "\n",
        "(You can answer this question either with a scikit-learn function or with no code, just your understanding of ROC AUC.)"
      ]
    },
    {
      "cell_type": "markdown",
      "metadata": {
        "id": "F5NvYGiqTNCn",
        "colab_type": "text"
      },
      "source": [
        "###ROC AUC Score###\n",
        "\n",
        "- The ROC_AUC score would be 0.5 because that is the baseline. The Roc and Auc always runs from 0 to 1 and evaluates how well you sort your predictions. It shows that something below 0.5 is worse than random guessing and something above 0.5 is better than random."
      ]
    },
    {
      "cell_type": "markdown",
      "metadata": {
        "colab_type": "text",
        "id": "QqYNDtwKYhji"
      },
      "source": [
        "In this Sprint Challenge, you will use **\"Cross-Validation with Independent Test Set\"** for your model validaton method.\n",
        "\n",
        "First, **split the data into `X_train, X_test, y_train, y_test`**. You can include 80% of the data in the train set, and hold out 20% for the test set."
      ]
    },
    {
      "cell_type": "code",
      "metadata": {
        "id": "7xntAoGKUL5f",
        "colab_type": "code",
        "colab": {}
      },
      "source": [
        "from sklearn.model_selection import train_test_split"
      ],
      "execution_count": 0,
      "outputs": []
    },
    {
      "cell_type": "code",
      "metadata": {
        "colab_type": "code",
        "id": "mPKf86yDYf0t",
        "colab": {}
      },
      "source": [
        "X_train, X_test, y_train, y_test = train_test_split(\n",
        "    X, y, train_size = 0.80, test_size = 0.20, random_state = 42, stratify = y)"
      ],
      "execution_count": 0,
      "outputs": []
    },
    {
      "cell_type": "markdown",
      "metadata": {
        "id": "Nwhhj7cOqAWr",
        "colab_type": "text"
      },
      "source": [
        "-I wanted to use 3-way holdout method but since we are not doing model selection, I will stay with2-way split"
      ]
    },
    {
      "cell_type": "markdown",
      "metadata": {
        "id": "dJpIVCSeQ00F",
        "colab_type": "text"
      },
      "source": [
        "## Part 2 — Modeling with Logistic Regression!"
      ]
    },
    {
      "cell_type": "markdown",
      "metadata": {
        "colab_type": "text",
        "id": "E_ATNJdqTCuZ"
      },
      "source": [
        "- You may do exploratory data analysis and visualization, but it is not required.\n",
        "- You may **use all the features, or select any features** of your choice, as long as you select at least one numeric feature and one categorical feature.\n",
        "- **Scale your numeric features**, using any scikit-learn [Scaler](https://scikit-learn.org/stable/modules/classes.html#module-sklearn.preprocessing) of your choice.\n",
        "- **Encode your categorical features**. You may use any encoding (One-Hot, Ordinal, etc) and any library (category_encoders, scikit-learn, pandas, etc) of your choice.\n",
        "- You may choose to use a pipeline, but it is not required.\n",
        "- Use a **Logistic Regression** model.\n",
        "- Use scikit-learn's [**cross_val_score**](https://scikit-learn.org/stable/modules/generated/sklearn.model_selection.cross_val_score.html) function. For [scoring](https://scikit-learn.org/stable/modules/model_evaluation.html#the-scoring-parameter-defining-model-evaluation-rules), use **accuracy**.\n",
        "- **Print your model's cross-validation accuracy score.**"
      ]
    },
    {
      "cell_type": "code",
      "metadata": {
        "id": "s4TbfFYxQ00G",
        "colab_type": "code",
        "colab": {}
      },
      "source": [
        "from sklearn.linear_model import LogisticRegression\n",
        "from sklearn.preprocessing import StandardScaler\n",
        "from sklearn.pipeline import make_pipeline\n",
        "from sklearn.impute import SimpleImputer\n",
        "import category_encoders as ce\n",
        "from sklearn.tree import DecisionTreeClassifier\n",
        "from xgboost import XGBClassifier\n",
        "from sklearn.model_selection import cross_val_score\n",
        "import warnings\n",
        "from sklearn.exceptions import DataConversionWarning\n",
        "warnings.filterwarnings(action='ignore', category=DataConversionWarning)"
      ],
      "execution_count": 0,
      "outputs": []
    },
    {
      "cell_type": "code",
      "metadata": {
        "id": "gi3eSPCsV99L",
        "colab_type": "code",
        "colab": {
          "base_uri": "https://localhost:8080/",
          "height": 205
        },
        "outputId": "0cd14dfe-4b89-43f4-f756-5ea7b6608728"
      },
      "source": [
        "!pip install category_encoders"
      ],
      "execution_count": 201,
      "outputs": [
        {
          "output_type": "stream",
          "text": [
            "Requirement already satisfied: category_encoders in /usr/local/lib/python3.6/dist-packages (2.0.0)\n",
            "Requirement already satisfied: statsmodels>=0.6.1 in /usr/local/lib/python3.6/dist-packages (from category_encoders) (0.9.0)\n",
            "Requirement already satisfied: numpy>=1.11.3 in /usr/local/lib/python3.6/dist-packages (from category_encoders) (1.16.3)\n",
            "Requirement already satisfied: scikit-learn>=0.20.0 in /usr/local/lib/python3.6/dist-packages (from category_encoders) (0.20.3)\n",
            "Requirement already satisfied: pandas>=0.21.1 in /usr/local/lib/python3.6/dist-packages (from category_encoders) (0.24.2)\n",
            "Requirement already satisfied: scipy>=0.19.0 in /usr/local/lib/python3.6/dist-packages (from category_encoders) (1.2.1)\n",
            "Requirement already satisfied: patsy>=0.4.1 in /usr/local/lib/python3.6/dist-packages (from category_encoders) (0.5.1)\n",
            "Requirement already satisfied: python-dateutil>=2.5.0 in /usr/local/lib/python3.6/dist-packages (from pandas>=0.21.1->category_encoders) (2.5.3)\n",
            "Requirement already satisfied: pytz>=2011k in /usr/local/lib/python3.6/dist-packages (from pandas>=0.21.1->category_encoders) (2018.9)\n",
            "Requirement already satisfied: six in /usr/local/lib/python3.6/dist-packages (from patsy>=0.4.1->category_encoders) (1.12.0)\n"
          ],
          "name": "stdout"
        }
      ]
    },
    {
      "cell_type": "markdown",
      "metadata": {
        "id": "4C6B2cpkWe_t",
        "colab_type": "text"
      },
      "source": [
        "##Let's explore data and see which ones we want to use.##"
      ]
    },
    {
      "cell_type": "code",
      "metadata": {
        "id": "CXdl-EIPWceO",
        "colab_type": "code",
        "colab": {
          "base_uri": "https://localhost:8080/",
          "height": 383
        },
        "outputId": "d86ac85c-b692-4a09-c45c-97c27851a22a"
      },
      "source": [
        "df.head()"
      ],
      "execution_count": 241,
      "outputs": [
        {
          "output_type": "execute_result",
          "data": {
            "text/html": [
              "<div>\n",
              "<style scoped>\n",
              "    .dataframe tbody tr th:only-of-type {\n",
              "        vertical-align: middle;\n",
              "    }\n",
              "\n",
              "    .dataframe tbody tr th {\n",
              "        vertical-align: top;\n",
              "    }\n",
              "\n",
              "    .dataframe thead th {\n",
              "        text-align: right;\n",
              "    }\n",
              "</style>\n",
              "<table border=\"1\" class=\"dataframe\">\n",
              "  <thead>\n",
              "    <tr style=\"text-align: right;\">\n",
              "      <th></th>\n",
              "      <th>age</th>\n",
              "      <th>workclass</th>\n",
              "      <th>fnlwgt</th>\n",
              "      <th>education</th>\n",
              "      <th>education-num</th>\n",
              "      <th>marital-status</th>\n",
              "      <th>occupation</th>\n",
              "      <th>relationship</th>\n",
              "      <th>race</th>\n",
              "      <th>sex</th>\n",
              "      <th>capital-gain</th>\n",
              "      <th>capital-loss</th>\n",
              "      <th>hours-per-week</th>\n",
              "      <th>native-country</th>\n",
              "      <th>income</th>\n",
              "    </tr>\n",
              "  </thead>\n",
              "  <tbody>\n",
              "    <tr>\n",
              "      <th>0</th>\n",
              "      <td>39</td>\n",
              "      <td>State-gov</td>\n",
              "      <td>77516</td>\n",
              "      <td>Bachelors</td>\n",
              "      <td>13</td>\n",
              "      <td>Never-married</td>\n",
              "      <td>Adm-clerical</td>\n",
              "      <td>Not-in-family</td>\n",
              "      <td>White</td>\n",
              "      <td>Male</td>\n",
              "      <td>2174</td>\n",
              "      <td>0</td>\n",
              "      <td>40</td>\n",
              "      <td>United-States</td>\n",
              "      <td>&lt;=50K</td>\n",
              "    </tr>\n",
              "    <tr>\n",
              "      <th>1</th>\n",
              "      <td>50</td>\n",
              "      <td>Self-emp-not-inc</td>\n",
              "      <td>83311</td>\n",
              "      <td>Bachelors</td>\n",
              "      <td>13</td>\n",
              "      <td>Married-civ-spouse</td>\n",
              "      <td>Exec-managerial</td>\n",
              "      <td>Husband</td>\n",
              "      <td>White</td>\n",
              "      <td>Male</td>\n",
              "      <td>0</td>\n",
              "      <td>0</td>\n",
              "      <td>13</td>\n",
              "      <td>United-States</td>\n",
              "      <td>&lt;=50K</td>\n",
              "    </tr>\n",
              "    <tr>\n",
              "      <th>2</th>\n",
              "      <td>38</td>\n",
              "      <td>Private</td>\n",
              "      <td>215646</td>\n",
              "      <td>HS-grad</td>\n",
              "      <td>9</td>\n",
              "      <td>Divorced</td>\n",
              "      <td>Handlers-cleaners</td>\n",
              "      <td>Not-in-family</td>\n",
              "      <td>White</td>\n",
              "      <td>Male</td>\n",
              "      <td>0</td>\n",
              "      <td>0</td>\n",
              "      <td>40</td>\n",
              "      <td>United-States</td>\n",
              "      <td>&lt;=50K</td>\n",
              "    </tr>\n",
              "    <tr>\n",
              "      <th>3</th>\n",
              "      <td>53</td>\n",
              "      <td>Private</td>\n",
              "      <td>234721</td>\n",
              "      <td>11th</td>\n",
              "      <td>7</td>\n",
              "      <td>Married-civ-spouse</td>\n",
              "      <td>Handlers-cleaners</td>\n",
              "      <td>Husband</td>\n",
              "      <td>Black</td>\n",
              "      <td>Male</td>\n",
              "      <td>0</td>\n",
              "      <td>0</td>\n",
              "      <td>40</td>\n",
              "      <td>United-States</td>\n",
              "      <td>&lt;=50K</td>\n",
              "    </tr>\n",
              "    <tr>\n",
              "      <th>4</th>\n",
              "      <td>28</td>\n",
              "      <td>Private</td>\n",
              "      <td>338409</td>\n",
              "      <td>Bachelors</td>\n",
              "      <td>13</td>\n",
              "      <td>Married-civ-spouse</td>\n",
              "      <td>Prof-specialty</td>\n",
              "      <td>Wife</td>\n",
              "      <td>Black</td>\n",
              "      <td>Female</td>\n",
              "      <td>0</td>\n",
              "      <td>0</td>\n",
              "      <td>40</td>\n",
              "      <td>Cuba</td>\n",
              "      <td>&lt;=50K</td>\n",
              "    </tr>\n",
              "  </tbody>\n",
              "</table>\n",
              "</div>"
            ],
            "text/plain": [
              "   age          workclass  fnlwgt   education  education-num  \\\n",
              "0   39          State-gov   77516   Bachelors             13   \n",
              "1   50   Self-emp-not-inc   83311   Bachelors             13   \n",
              "2   38            Private  215646     HS-grad              9   \n",
              "3   53            Private  234721        11th              7   \n",
              "4   28            Private  338409   Bachelors             13   \n",
              "\n",
              "        marital-status          occupation    relationship    race      sex  \\\n",
              "0        Never-married        Adm-clerical   Not-in-family   White     Male   \n",
              "1   Married-civ-spouse     Exec-managerial         Husband   White     Male   \n",
              "2             Divorced   Handlers-cleaners   Not-in-family   White     Male   \n",
              "3   Married-civ-spouse   Handlers-cleaners         Husband   Black     Male   \n",
              "4   Married-civ-spouse      Prof-specialty            Wife   Black   Female   \n",
              "\n",
              "   capital-gain  capital-loss  hours-per-week  native-country income  \n",
              "0          2174             0              40   United-States  <=50K  \n",
              "1             0             0              13   United-States  <=50K  \n",
              "2             0             0              40   United-States  <=50K  \n",
              "3             0             0              40   United-States  <=50K  \n",
              "4             0             0              40            Cuba  <=50K  "
            ]
          },
          "metadata": {
            "tags": []
          },
          "execution_count": 241
        }
      ]
    },
    {
      "cell_type": "code",
      "metadata": {
        "id": "hInLmpYoX7aX",
        "colab_type": "code",
        "colab": {}
      },
      "source": [
        "X_train_numeric = X_train.select_dtypes(include='number')"
      ],
      "execution_count": 0,
      "outputs": []
    },
    {
      "cell_type": "code",
      "metadata": {
        "id": "U5I2mvpfXznQ",
        "colab_type": "code",
        "colab": {
          "base_uri": "https://localhost:8080/",
          "height": 34
        },
        "outputId": "337953cc-af9a-4b0d-d03b-4b92d223d526"
      },
      "source": [
        "from sklearn.tree import DecisionTreeClassifier\n",
        "\n",
        "tree = DecisionTreeClassifier(max_depth = 4)\n",
        "tree.fit(X_train_numeric, y_train)\n",
        "y_pred_proba = tree.predict_proba(X_train_numeric)[:, 1] #prints out an array (The second part)\n",
        "roc_auc_score(y_train, y_pred_proba)"
      ],
      "execution_count": 243,
      "outputs": [
        {
          "output_type": "execute_result",
          "data": {
            "text/plain": [
              "0.8115349934491388"
            ]
          },
          "metadata": {
            "tags": []
          },
          "execution_count": 243
        }
      ]
    },
    {
      "cell_type": "code",
      "metadata": {
        "id": "p-9laH8FYWf9",
        "colab_type": "code",
        "colab": {
          "base_uri": "https://localhost:8080/",
          "height": 677
        },
        "outputId": "82448398-42da-4933-f98c-5be240ac2f59"
      },
      "source": [
        "import graphviz\n",
        "from sklearn.tree import export_graphviz\n",
        "\n",
        "dot_data = export_graphviz(tree, out_file=None, feature_names=X_train_numeric.columns, \n",
        "                           class_names=['>=50K', '<=50K'], filled=True, impurity=False, proportion=True)\n",
        "\n",
        "graphviz.Source(dot_data)"
      ],
      "execution_count": 244,
      "outputs": [
        {
          "output_type": "execute_result",
          "data": {
            "text/plain": [
              "<graphviz.files.Source at 0x7f8a534f67b8>"
            ],
            "image/svg+xml": "<?xml version=\"1.0\" encoding=\"UTF-8\" standalone=\"no\"?>\n<!DOCTYPE svg PUBLIC \"-//W3C//DTD SVG 1.1//EN\"\n \"http://www.w3.org/Graphics/SVG/1.1/DTD/svg11.dtd\">\n<!-- Generated by graphviz version 2.40.1 (20161225.0304)\n -->\n<!-- Title: Tree Pages: 1 -->\n<svg width=\"2210pt\" height=\"477pt\"\n viewBox=\"0.00 0.00 2209.50 477.00\" xmlns=\"http://www.w3.org/2000/svg\" xmlns:xlink=\"http://www.w3.org/1999/xlink\">\n<g id=\"graph0\" class=\"graph\" transform=\"scale(1 1) rotate(0) translate(4 473)\">\n<title>Tree</title>\n<polygon fill=\"#ffffff\" stroke=\"transparent\" points=\"-4,4 -4,-473 2205.5,-473 2205.5,4 -4,4\"/>\n<!-- 0 -->\n<g id=\"node1\" class=\"node\">\n<title>0</title>\n<polygon fill=\"#e58139\" fill-opacity=\"0.682353\" stroke=\"#000000\" points=\"1299.5,-469 1151.5,-469 1151.5,-401 1299.5,-401 1299.5,-469\"/>\n<text text-anchor=\"middle\" x=\"1225.5\" y=\"-453.8\" font-family=\"Times,serif\" font-size=\"14.00\" fill=\"#000000\">capital&#45;gain &lt;= 5095.5</text>\n<text text-anchor=\"middle\" x=\"1225.5\" y=\"-438.8\" font-family=\"Times,serif\" font-size=\"14.00\" fill=\"#000000\">samples = 100.0%</text>\n<text text-anchor=\"middle\" x=\"1225.5\" y=\"-423.8\" font-family=\"Times,serif\" font-size=\"14.00\" fill=\"#000000\">value = [0.759, 0.241]</text>\n<text text-anchor=\"middle\" x=\"1225.5\" y=\"-408.8\" font-family=\"Times,serif\" font-size=\"14.00\" fill=\"#000000\">class = &gt;=50K</text>\n</g>\n<!-- 1 -->\n<g id=\"node2\" class=\"node\">\n<title>1</title>\n<polygon fill=\"#e58139\" fill-opacity=\"0.741176\" stroke=\"#000000\" points=\"1057,-365 904,-365 904,-297 1057,-297 1057,-365\"/>\n<text text-anchor=\"middle\" x=\"980.5\" y=\"-349.8\" font-family=\"Times,serif\" font-size=\"14.00\" fill=\"#000000\">education&#45;num &lt;= 12.5</text>\n<text text-anchor=\"middle\" x=\"980.5\" y=\"-334.8\" font-family=\"Times,serif\" font-size=\"14.00\" fill=\"#000000\">samples = 95.2%</text>\n<text text-anchor=\"middle\" x=\"980.5\" y=\"-319.8\" font-family=\"Times,serif\" font-size=\"14.00\" fill=\"#000000\">value = [0.795, 0.205]</text>\n<text text-anchor=\"middle\" x=\"980.5\" y=\"-304.8\" font-family=\"Times,serif\" font-size=\"14.00\" fill=\"#000000\">class = &gt;=50K</text>\n</g>\n<!-- 0&#45;&gt;1 -->\n<g id=\"edge1\" class=\"edge\">\n<title>0&#45;&gt;1</title>\n<path fill=\"none\" stroke=\"#000000\" d=\"M1151.3271,-403.5143C1124.6281,-392.1809 1094.2815,-379.2991 1066.6486,-367.5692\"/>\n<polygon fill=\"#000000\" stroke=\"#000000\" points=\"1067.9632,-364.325 1057.3906,-363.6393 1065.228,-370.7685 1067.9632,-364.325\"/>\n<text text-anchor=\"middle\" x=\"1066.7555\" y=\"-383.119\" font-family=\"Times,serif\" font-size=\"14.00\" fill=\"#000000\">True</text>\n</g>\n<!-- 16 -->\n<g id=\"node17\" class=\"node\">\n<title>16</title>\n<polygon fill=\"#399de5\" fill-opacity=\"0.945098\" stroke=\"#000000\" points=\"1511.5,-365 1363.5,-365 1363.5,-297 1511.5,-297 1511.5,-365\"/>\n<text text-anchor=\"middle\" x=\"1437.5\" y=\"-349.8\" font-family=\"Times,serif\" font-size=\"14.00\" fill=\"#000000\">capital&#45;gain &lt;= 7073.5</text>\n<text text-anchor=\"middle\" x=\"1437.5\" y=\"-334.8\" font-family=\"Times,serif\" font-size=\"14.00\" fill=\"#000000\">samples = 4.8%</text>\n<text text-anchor=\"middle\" x=\"1437.5\" y=\"-319.8\" font-family=\"Times,serif\" font-size=\"14.00\" fill=\"#000000\">value = [0.053, 0.947]</text>\n<text text-anchor=\"middle\" x=\"1437.5\" y=\"-304.8\" font-family=\"Times,serif\" font-size=\"14.00\" fill=\"#000000\">class = &lt;=50K</text>\n</g>\n<!-- 0&#45;&gt;16 -->\n<g id=\"edge16\" class=\"edge\">\n<title>0&#45;&gt;16</title>\n<path fill=\"none\" stroke=\"#000000\" d=\"M1294.9167,-400.9465C1315.3239,-390.9354 1337.793,-379.9129 1358.7397,-369.6371\"/>\n<polygon fill=\"#000000\" stroke=\"#000000\" points=\"1360.4909,-372.6766 1367.9273,-365.13 1357.4079,-366.392 1360.4909,-372.6766\"/>\n<text text-anchor=\"middle\" x=\"1359.8422\" y=\"-385.0865\" font-family=\"Times,serif\" font-size=\"14.00\" fill=\"#000000\">False</text>\n</g>\n<!-- 2 -->\n<g id=\"node3\" class=\"node\">\n<title>2</title>\n<polygon fill=\"#e58139\" fill-opacity=\"0.839216\" stroke=\"#000000\" points=\"560,-261 413,-261 413,-193 560,-193 560,-261\"/>\n<text text-anchor=\"middle\" x=\"486.5\" y=\"-245.8\" font-family=\"Times,serif\" font-size=\"14.00\" fill=\"#000000\">age &lt;= 30.5</text>\n<text text-anchor=\"middle\" x=\"486.5\" y=\"-230.8\" font-family=\"Times,serif\" font-size=\"14.00\" fill=\"#000000\">samples = 73.2%</text>\n<text text-anchor=\"middle\" x=\"486.5\" y=\"-215.8\" font-family=\"Times,serif\" font-size=\"14.00\" fill=\"#000000\">value = [0.861, 0.139]</text>\n<text text-anchor=\"middle\" x=\"486.5\" y=\"-200.8\" font-family=\"Times,serif\" font-size=\"14.00\" fill=\"#000000\">class = &gt;=50K</text>\n</g>\n<!-- 1&#45;&gt;2 -->\n<g id=\"edge2\" class=\"edge\">\n<title>1&#45;&gt;2</title>\n<path fill=\"none\" stroke=\"#000000\" d=\"M903.8545,-314.8641C813.3828,-295.8174 663.4586,-264.2544 570.0734,-244.5944\"/>\n<polygon fill=\"#000000\" stroke=\"#000000\" points=\"570.6027,-241.1292 560.0962,-242.4939 569.1606,-247.979 570.6027,-241.1292\"/>\n</g>\n<!-- 9 -->\n<g id=\"node10\" class=\"node\">\n<title>9</title>\n<polygon fill=\"#e58139\" fill-opacity=\"0.254902\" stroke=\"#000000\" points=\"1054,-261 907,-261 907,-193 1054,-193 1054,-261\"/>\n<text text-anchor=\"middle\" x=\"980.5\" y=\"-245.8\" font-family=\"Times,serif\" font-size=\"14.00\" fill=\"#000000\">age &lt;= 29.5</text>\n<text text-anchor=\"middle\" x=\"980.5\" y=\"-230.8\" font-family=\"Times,serif\" font-size=\"14.00\" fill=\"#000000\">samples = 22.0%</text>\n<text text-anchor=\"middle\" x=\"980.5\" y=\"-215.8\" font-family=\"Times,serif\" font-size=\"14.00\" fill=\"#000000\">value = [0.573, 0.427]</text>\n<text text-anchor=\"middle\" x=\"980.5\" y=\"-200.8\" font-family=\"Times,serif\" font-size=\"14.00\" fill=\"#000000\">class = &gt;=50K</text>\n</g>\n<!-- 1&#45;&gt;9 -->\n<g id=\"edge9\" class=\"edge\">\n<title>1&#45;&gt;9</title>\n<path fill=\"none\" stroke=\"#000000\" d=\"M980.5,-296.9465C980.5,-288.776 980.5,-279.9318 980.5,-271.3697\"/>\n<polygon fill=\"#000000\" stroke=\"#000000\" points=\"984.0001,-271.13 980.5,-261.13 977.0001,-271.13 984.0001,-271.13\"/>\n</g>\n<!-- 3 -->\n<g id=\"node4\" class=\"node\">\n<title>3</title>\n<polygon fill=\"#e58139\" fill-opacity=\"0.964706\" stroke=\"#000000\" points=\"312,-157 165,-157 165,-89 312,-89 312,-157\"/>\n<text text-anchor=\"middle\" x=\"238.5\" y=\"-141.8\" font-family=\"Times,serif\" font-size=\"14.00\" fill=\"#000000\">age &lt;= 24.5</text>\n<text text-anchor=\"middle\" x=\"238.5\" y=\"-126.8\" font-family=\"Times,serif\" font-size=\"14.00\" fill=\"#000000\">samples = 26.7%</text>\n<text text-anchor=\"middle\" x=\"238.5\" y=\"-111.8\" font-family=\"Times,serif\" font-size=\"14.00\" fill=\"#000000\">value = [0.965, 0.035]</text>\n<text text-anchor=\"middle\" x=\"238.5\" y=\"-96.8\" font-family=\"Times,serif\" font-size=\"14.00\" fill=\"#000000\">class = &gt;=50K</text>\n</g>\n<!-- 2&#45;&gt;3 -->\n<g id=\"edge3\" class=\"edge\">\n<title>2&#45;&gt;3</title>\n<path fill=\"none\" stroke=\"#000000\" d=\"M412.7633,-196.0782C384.1614,-184.0838 351.2649,-170.2885 321.8125,-157.9375\"/>\n<polygon fill=\"#000000\" stroke=\"#000000\" points=\"322.9564,-154.6219 312.3808,-153.9823 320.2492,-161.0773 322.9564,-154.6219\"/>\n</g>\n<!-- 6 -->\n<g id=\"node7\" class=\"node\">\n<title>6</title>\n<polygon fill=\"#e58139\" fill-opacity=\"0.752941\" stroke=\"#000000\" points=\"560,-157 413,-157 413,-89 560,-89 560,-157\"/>\n<text text-anchor=\"middle\" x=\"486.5\" y=\"-141.8\" font-family=\"Times,serif\" font-size=\"14.00\" fill=\"#000000\">capital&#45;loss &lt;= 1820.5</text>\n<text text-anchor=\"middle\" x=\"486.5\" y=\"-126.8\" font-family=\"Times,serif\" font-size=\"14.00\" fill=\"#000000\">samples = 46.5%</text>\n<text text-anchor=\"middle\" x=\"486.5\" y=\"-111.8\" font-family=\"Times,serif\" font-size=\"14.00\" fill=\"#000000\">value = [0.802, 0.198]</text>\n<text text-anchor=\"middle\" x=\"486.5\" y=\"-96.8\" font-family=\"Times,serif\" font-size=\"14.00\" fill=\"#000000\">class = &gt;=50K</text>\n</g>\n<!-- 2&#45;&gt;6 -->\n<g id=\"edge6\" class=\"edge\">\n<title>2&#45;&gt;6</title>\n<path fill=\"none\" stroke=\"#000000\" d=\"M486.5,-192.9465C486.5,-184.776 486.5,-175.9318 486.5,-167.3697\"/>\n<polygon fill=\"#000000\" stroke=\"#000000\" points=\"490.0001,-167.13 486.5,-157.13 483.0001,-167.13 490.0001,-167.13\"/>\n</g>\n<!-- 4 -->\n<g id=\"node5\" class=\"node\">\n<title>4</title>\n<polygon fill=\"#e58139\" fill-opacity=\"0.992157\" stroke=\"#000000\" points=\"147,-53 0,-53 0,0 147,0 147,-53\"/>\n<text text-anchor=\"middle\" x=\"73.5\" y=\"-37.8\" font-family=\"Times,serif\" font-size=\"14.00\" fill=\"#000000\">samples = 15.5%</text>\n<text text-anchor=\"middle\" x=\"73.5\" y=\"-22.8\" font-family=\"Times,serif\" font-size=\"14.00\" fill=\"#000000\">value = [0.993, 0.007]</text>\n<text text-anchor=\"middle\" x=\"73.5\" y=\"-7.8\" font-family=\"Times,serif\" font-size=\"14.00\" fill=\"#000000\">class = &gt;=50K</text>\n</g>\n<!-- 3&#45;&gt;4 -->\n<g id=\"edge4\" class=\"edge\">\n<title>3&#45;&gt;4</title>\n<path fill=\"none\" stroke=\"#000000\" d=\"M180.3272,-88.9777C163.182,-78.9504 144.4975,-68.0228 127.618,-58.1508\"/>\n<polygon fill=\"#000000\" stroke=\"#000000\" points=\"129.3724,-55.1223 118.9734,-53.095 125.8385,-61.1648 129.3724,-55.1223\"/>\n</g>\n<!-- 5 -->\n<g id=\"node6\" class=\"node\">\n<title>5</title>\n<polygon fill=\"#e58139\" fill-opacity=\"0.921569\" stroke=\"#000000\" points=\"312,-53 165,-53 165,0 312,0 312,-53\"/>\n<text text-anchor=\"middle\" x=\"238.5\" y=\"-37.8\" font-family=\"Times,serif\" font-size=\"14.00\" fill=\"#000000\">samples = 11.1%</text>\n<text text-anchor=\"middle\" x=\"238.5\" y=\"-22.8\" font-family=\"Times,serif\" font-size=\"14.00\" fill=\"#000000\">value = [0.927, 0.073]</text>\n<text text-anchor=\"middle\" x=\"238.5\" y=\"-7.8\" font-family=\"Times,serif\" font-size=\"14.00\" fill=\"#000000\">class = &gt;=50K</text>\n</g>\n<!-- 3&#45;&gt;5 -->\n<g id=\"edge5\" class=\"edge\">\n<title>3&#45;&gt;5</title>\n<path fill=\"none\" stroke=\"#000000\" d=\"M238.5,-88.9777C238.5,-80.7364 238.5,-71.887 238.5,-63.5153\"/>\n<polygon fill=\"#000000\" stroke=\"#000000\" points=\"242.0001,-63.2484 238.5,-53.2485 235.0001,-63.2485 242.0001,-63.2484\"/>\n</g>\n<!-- 7 -->\n<g id=\"node8\" class=\"node\">\n<title>7</title>\n<polygon fill=\"#e58139\" fill-opacity=\"0.772549\" stroke=\"#000000\" points=\"477,-53 330,-53 330,0 477,0 477,-53\"/>\n<text text-anchor=\"middle\" x=\"403.5\" y=\"-37.8\" font-family=\"Times,serif\" font-size=\"14.00\" fill=\"#000000\">samples = 45.2%</text>\n<text text-anchor=\"middle\" x=\"403.5\" y=\"-22.8\" font-family=\"Times,serif\" font-size=\"14.00\" fill=\"#000000\">value = [0.814, 0.186]</text>\n<text text-anchor=\"middle\" x=\"403.5\" y=\"-7.8\" font-family=\"Times,serif\" font-size=\"14.00\" fill=\"#000000\">class = &gt;=50K</text>\n</g>\n<!-- 6&#45;&gt;7 -->\n<g id=\"edge7\" class=\"edge\">\n<title>6&#45;&gt;7</title>\n<path fill=\"none\" stroke=\"#000000\" d=\"M457.2373,-88.9777C449.4401,-79.9123 441.01,-70.111 433.1901,-61.0192\"/>\n<polygon fill=\"#000000\" stroke=\"#000000\" points=\"435.6809,-58.5477 426.5065,-53.2485 430.3738,-63.1123 435.6809,-58.5477\"/>\n</g>\n<!-- 8 -->\n<g id=\"node9\" class=\"node\">\n<title>8</title>\n<polygon fill=\"#399de5\" fill-opacity=\"0.396078\" stroke=\"#000000\" points=\"642,-53 495,-53 495,0 642,0 642,-53\"/>\n<text text-anchor=\"middle\" x=\"568.5\" y=\"-37.8\" font-family=\"Times,serif\" font-size=\"14.00\" fill=\"#000000\">samples = 1.3%</text>\n<text text-anchor=\"middle\" x=\"568.5\" y=\"-22.8\" font-family=\"Times,serif\" font-size=\"14.00\" fill=\"#000000\">value = [0.376, 0.624]</text>\n<text text-anchor=\"middle\" x=\"568.5\" y=\"-7.8\" font-family=\"Times,serif\" font-size=\"14.00\" fill=\"#000000\">class = &lt;=50K</text>\n</g>\n<!-- 6&#45;&gt;8 -->\n<g id=\"edge8\" class=\"edge\">\n<title>6&#45;&gt;8</title>\n<path fill=\"none\" stroke=\"#000000\" d=\"M515.4101,-88.9777C523.1134,-79.9123 531.4419,-70.111 539.1676,-61.0192\"/>\n<polygon fill=\"#000000\" stroke=\"#000000\" points=\"541.9625,-63.1352 545.7707,-53.2485 536.6282,-58.6025 541.9625,-63.1352\"/>\n</g>\n<!-- 10 -->\n<g id=\"node11\" class=\"node\">\n<title>10</title>\n<polygon fill=\"#e58139\" fill-opacity=\"0.854902\" stroke=\"#000000\" points=\"972,-157 825,-157 825,-89 972,-89 972,-157\"/>\n<text text-anchor=\"middle\" x=\"898.5\" y=\"-141.8\" font-family=\"Times,serif\" font-size=\"14.00\" fill=\"#000000\">age &lt;= 27.5</text>\n<text text-anchor=\"middle\" x=\"898.5\" y=\"-126.8\" font-family=\"Times,serif\" font-size=\"14.00\" fill=\"#000000\">samples = 4.8%</text>\n<text text-anchor=\"middle\" x=\"898.5\" y=\"-111.8\" font-family=\"Times,serif\" font-size=\"14.00\" fill=\"#000000\">value = [0.872, 0.128]</text>\n<text text-anchor=\"middle\" x=\"898.5\" y=\"-96.8\" font-family=\"Times,serif\" font-size=\"14.00\" fill=\"#000000\">class = &gt;=50K</text>\n</g>\n<!-- 9&#45;&gt;10 -->\n<g id=\"edge10\" class=\"edge\">\n<title>9&#45;&gt;10</title>\n<path fill=\"none\" stroke=\"#000000\" d=\"M953.6501,-192.9465C946.6417,-184.0578 939.0045,-174.3716 931.709,-165.1188\"/>\n<polygon fill=\"#000000\" stroke=\"#000000\" points=\"934.3502,-162.8157 925.4102,-157.13 928.8533,-167.1498 934.3502,-162.8157\"/>\n</g>\n<!-- 13 -->\n<g id=\"node14\" class=\"node\">\n<title>13</title>\n<polygon fill=\"#399de5\" fill-opacity=\"0.039216\" stroke=\"#000000\" points=\"1136,-157 991,-157 991,-89 1136,-89 1136,-157\"/>\n<text text-anchor=\"middle\" x=\"1063.5\" y=\"-141.8\" font-family=\"Times,serif\" font-size=\"14.00\" fill=\"#000000\">capital&#45;loss &lt;= 1881.5</text>\n<text text-anchor=\"middle\" x=\"1063.5\" y=\"-126.8\" font-family=\"Times,serif\" font-size=\"14.00\" fill=\"#000000\">samples = 17.3%</text>\n<text text-anchor=\"middle\" x=\"1063.5\" y=\"-111.8\" font-family=\"Times,serif\" font-size=\"14.00\" fill=\"#000000\">value = [0.49, 0.51]</text>\n<text text-anchor=\"middle\" x=\"1063.5\" y=\"-96.8\" font-family=\"Times,serif\" font-size=\"14.00\" fill=\"#000000\">class = &lt;=50K</text>\n</g>\n<!-- 9&#45;&gt;13 -->\n<g id=\"edge13\" class=\"edge\">\n<title>9&#45;&gt;13</title>\n<path fill=\"none\" stroke=\"#000000\" d=\"M1007.6773,-192.9465C1014.7712,-184.0578 1022.5015,-174.3716 1029.886,-165.1188\"/>\n<polygon fill=\"#000000\" stroke=\"#000000\" points=\"1032.7594,-167.1293 1036.2616,-157.13 1027.2882,-162.7628 1032.7594,-167.1293\"/>\n</g>\n<!-- 11 -->\n<g id=\"node12\" class=\"node\">\n<title>11</title>\n<polygon fill=\"#e58139\" fill-opacity=\"0.917647\" stroke=\"#000000\" points=\"807,-53 660,-53 660,0 807,0 807,-53\"/>\n<text text-anchor=\"middle\" x=\"733.5\" y=\"-37.8\" font-family=\"Times,serif\" font-size=\"14.00\" fill=\"#000000\">samples = 3.5%</text>\n<text text-anchor=\"middle\" x=\"733.5\" y=\"-22.8\" font-family=\"Times,serif\" font-size=\"14.00\" fill=\"#000000\">value = [0.923, 0.077]</text>\n<text text-anchor=\"middle\" x=\"733.5\" y=\"-7.8\" font-family=\"Times,serif\" font-size=\"14.00\" fill=\"#000000\">class = &gt;=50K</text>\n</g>\n<!-- 10&#45;&gt;11 -->\n<g id=\"edge11\" class=\"edge\">\n<title>10&#45;&gt;11</title>\n<path fill=\"none\" stroke=\"#000000\" d=\"M840.3272,-88.9777C823.182,-78.9504 804.4975,-68.0228 787.618,-58.1508\"/>\n<polygon fill=\"#000000\" stroke=\"#000000\" points=\"789.3724,-55.1223 778.9734,-53.095 785.8385,-61.1648 789.3724,-55.1223\"/>\n</g>\n<!-- 12 -->\n<g id=\"node13\" class=\"node\">\n<title>12</title>\n<polygon fill=\"#e58139\" fill-opacity=\"0.631373\" stroke=\"#000000\" points=\"972,-53 825,-53 825,0 972,0 972,-53\"/>\n<text text-anchor=\"middle\" x=\"898.5\" y=\"-37.8\" font-family=\"Times,serif\" font-size=\"14.00\" fill=\"#000000\">samples = 1.3%</text>\n<text text-anchor=\"middle\" x=\"898.5\" y=\"-22.8\" font-family=\"Times,serif\" font-size=\"14.00\" fill=\"#000000\">value = [0.731, 0.269]</text>\n<text text-anchor=\"middle\" x=\"898.5\" y=\"-7.8\" font-family=\"Times,serif\" font-size=\"14.00\" fill=\"#000000\">class = &gt;=50K</text>\n</g>\n<!-- 10&#45;&gt;12 -->\n<g id=\"edge12\" class=\"edge\">\n<title>10&#45;&gt;12</title>\n<path fill=\"none\" stroke=\"#000000\" d=\"M898.5,-88.9777C898.5,-80.7364 898.5,-71.887 898.5,-63.5153\"/>\n<polygon fill=\"#000000\" stroke=\"#000000\" points=\"902.0001,-63.2484 898.5,-53.2485 895.0001,-63.2485 902.0001,-63.2484\"/>\n</g>\n<!-- 14 -->\n<g id=\"node15\" class=\"node\">\n<title>14</title>\n<polygon fill=\"#e58139\" fill-opacity=\"0.090196\" stroke=\"#000000\" points=\"1137,-53 990,-53 990,0 1137,0 1137,-53\"/>\n<text text-anchor=\"middle\" x=\"1063.5\" y=\"-37.8\" font-family=\"Times,serif\" font-size=\"14.00\" fill=\"#000000\">samples = 16.0%</text>\n<text text-anchor=\"middle\" x=\"1063.5\" y=\"-22.8\" font-family=\"Times,serif\" font-size=\"14.00\" fill=\"#000000\">value = [0.524, 0.476]</text>\n<text text-anchor=\"middle\" x=\"1063.5\" y=\"-7.8\" font-family=\"Times,serif\" font-size=\"14.00\" fill=\"#000000\">class = &gt;=50K</text>\n</g>\n<!-- 13&#45;&gt;14 -->\n<g id=\"edge14\" class=\"edge\">\n<title>13&#45;&gt;14</title>\n<path fill=\"none\" stroke=\"#000000\" d=\"M1063.5,-88.9777C1063.5,-80.7364 1063.5,-71.887 1063.5,-63.5153\"/>\n<polygon fill=\"#000000\" stroke=\"#000000\" points=\"1067.0001,-63.2484 1063.5,-53.2485 1060.0001,-63.2485 1067.0001,-63.2484\"/>\n</g>\n<!-- 15 -->\n<g id=\"node16\" class=\"node\">\n<title>15</title>\n<polygon fill=\"#399de5\" fill-opacity=\"0.917647\" stroke=\"#000000\" points=\"1302,-53 1155,-53 1155,0 1302,0 1302,-53\"/>\n<text text-anchor=\"middle\" x=\"1228.5\" y=\"-37.8\" font-family=\"Times,serif\" font-size=\"14.00\" fill=\"#000000\">samples = 1.3%</text>\n<text text-anchor=\"middle\" x=\"1228.5\" y=\"-22.8\" font-family=\"Times,serif\" font-size=\"14.00\" fill=\"#000000\">value = [0.075, 0.925]</text>\n<text text-anchor=\"middle\" x=\"1228.5\" y=\"-7.8\" font-family=\"Times,serif\" font-size=\"14.00\" fill=\"#000000\">class = &lt;=50K</text>\n</g>\n<!-- 13&#45;&gt;15 -->\n<g id=\"edge15\" class=\"edge\">\n<title>13&#45;&gt;15</title>\n<path fill=\"none\" stroke=\"#000000\" d=\"M1121.6728,-88.9777C1138.818,-78.9504 1157.5025,-68.0228 1174.382,-58.1508\"/>\n<polygon fill=\"#000000\" stroke=\"#000000\" points=\"1176.1615,-61.1648 1183.0266,-53.095 1172.6276,-55.1223 1176.1615,-61.1648\"/>\n</g>\n<!-- 17 -->\n<g id=\"node18\" class=\"node\">\n<title>17</title>\n<polygon fill=\"#399de5\" fill-opacity=\"0.454902\" stroke=\"#000000\" points=\"1511.5,-261 1363.5,-261 1363.5,-193 1511.5,-193 1511.5,-261\"/>\n<text text-anchor=\"middle\" x=\"1437.5\" y=\"-245.8\" font-family=\"Times,serif\" font-size=\"14.00\" fill=\"#000000\">capital&#45;gain &lt;= 5316.5</text>\n<text text-anchor=\"middle\" x=\"1437.5\" y=\"-230.8\" font-family=\"Times,serif\" font-size=\"14.00\" fill=\"#000000\">samples = 0.5%</text>\n<text text-anchor=\"middle\" x=\"1437.5\" y=\"-215.8\" font-family=\"Times,serif\" font-size=\"14.00\" fill=\"#000000\">value = [0.353, 0.647]</text>\n<text text-anchor=\"middle\" x=\"1437.5\" y=\"-200.8\" font-family=\"Times,serif\" font-size=\"14.00\" fill=\"#000000\">class = &lt;=50K</text>\n</g>\n<!-- 16&#45;&gt;17 -->\n<g id=\"edge17\" class=\"edge\">\n<title>16&#45;&gt;17</title>\n<path fill=\"none\" stroke=\"#000000\" d=\"M1437.5,-296.9465C1437.5,-288.776 1437.5,-279.9318 1437.5,-271.3697\"/>\n<polygon fill=\"#000000\" stroke=\"#000000\" points=\"1441.0001,-271.13 1437.5,-261.13 1434.0001,-271.13 1441.0001,-271.13\"/>\n</g>\n<!-- 22 -->\n<g id=\"node23\" class=\"node\">\n<title>22</title>\n<polygon fill=\"#399de5\" fill-opacity=\"0.984314\" stroke=\"#000000\" points=\"1828,-261 1681,-261 1681,-193 1828,-193 1828,-261\"/>\n<text text-anchor=\"middle\" x=\"1754.5\" y=\"-245.8\" font-family=\"Times,serif\" font-size=\"14.00\" fill=\"#000000\">age &lt;= 20.5</text>\n<text text-anchor=\"middle\" x=\"1754.5\" y=\"-230.8\" font-family=\"Times,serif\" font-size=\"14.00\" fill=\"#000000\">samples = 4.3%</text>\n<text text-anchor=\"middle\" x=\"1754.5\" y=\"-215.8\" font-family=\"Times,serif\" font-size=\"14.00\" fill=\"#000000\">value = [0.015, 0.985]</text>\n<text text-anchor=\"middle\" x=\"1754.5\" y=\"-200.8\" font-family=\"Times,serif\" font-size=\"14.00\" fill=\"#000000\">class = &lt;=50K</text>\n</g>\n<!-- 16&#45;&gt;22 -->\n<g id=\"edge22\" class=\"edge\">\n<title>16&#45;&gt;22</title>\n<path fill=\"none\" stroke=\"#000000\" d=\"M1511.8224,-306.6166C1559.6024,-290.9412 1621.7594,-270.549 1671.2054,-254.3269\"/>\n<polygon fill=\"#000000\" stroke=\"#000000\" points=\"1672.5064,-257.5837 1680.917,-251.1408 1670.3242,-250.9325 1672.5064,-257.5837\"/>\n</g>\n<!-- 18 -->\n<g id=\"node19\" class=\"node\">\n<title>18</title>\n<polygon fill=\"#399de5\" stroke=\"#000000\" points=\"1421,-149.5 1304,-149.5 1304,-96.5 1421,-96.5 1421,-149.5\"/>\n<text text-anchor=\"middle\" x=\"1362.5\" y=\"-134.3\" font-family=\"Times,serif\" font-size=\"14.00\" fill=\"#000000\">samples = 0.3%</text>\n<text text-anchor=\"middle\" x=\"1362.5\" y=\"-119.3\" font-family=\"Times,serif\" font-size=\"14.00\" fill=\"#000000\">value = [0.0, 1.0]</text>\n<text text-anchor=\"middle\" x=\"1362.5\" y=\"-104.3\" font-family=\"Times,serif\" font-size=\"14.00\" fill=\"#000000\">class = &lt;=50K</text>\n</g>\n<!-- 17&#45;&gt;18 -->\n<g id=\"edge18\" class=\"edge\">\n<title>17&#45;&gt;18</title>\n<path fill=\"none\" stroke=\"#000000\" d=\"M1412.9422,-192.9465C1404.8399,-181.7113 1395.8188,-169.2021 1387.6714,-157.9043\"/>\n<polygon fill=\"#000000\" stroke=\"#000000\" points=\"1390.3291,-155.6058 1381.641,-149.5422 1384.6514,-159.7003 1390.3291,-155.6058\"/>\n</g>\n<!-- 19 -->\n<g id=\"node20\" class=\"node\">\n<title>19</title>\n<polygon fill=\"#e58139\" fill-opacity=\"0.694118\" stroke=\"#000000\" points=\"1586,-157 1439,-157 1439,-89 1586,-89 1586,-157\"/>\n<text text-anchor=\"middle\" x=\"1512.5\" y=\"-141.8\" font-family=\"Times,serif\" font-size=\"14.00\" fill=\"#000000\">age &lt;= 61.0</text>\n<text text-anchor=\"middle\" x=\"1512.5\" y=\"-126.8\" font-family=\"Times,serif\" font-size=\"14.00\" fill=\"#000000\">samples = 0.2%</text>\n<text text-anchor=\"middle\" x=\"1512.5\" y=\"-111.8\" font-family=\"Times,serif\" font-size=\"14.00\" fill=\"#000000\">value = [0.766, 0.234]</text>\n<text text-anchor=\"middle\" x=\"1512.5\" y=\"-96.8\" font-family=\"Times,serif\" font-size=\"14.00\" fill=\"#000000\">class = &gt;=50K</text>\n</g>\n<!-- 17&#45;&gt;19 -->\n<g id=\"edge19\" class=\"edge\">\n<title>17&#45;&gt;19</title>\n<path fill=\"none\" stroke=\"#000000\" d=\"M1462.0578,-192.9465C1468.4032,-184.1475 1475.3121,-174.5672 1481.9236,-165.3993\"/>\n<polygon fill=\"#000000\" stroke=\"#000000\" points=\"1484.8766,-167.2882 1487.887,-157.13 1479.1989,-163.1937 1484.8766,-167.2882\"/>\n</g>\n<!-- 20 -->\n<g id=\"node21\" class=\"node\">\n<title>20</title>\n<polygon fill=\"#e58139\" fill-opacity=\"0.976471\" stroke=\"#000000\" points=\"1467,-53 1320,-53 1320,0 1467,0 1467,-53\"/>\n<text text-anchor=\"middle\" x=\"1393.5\" y=\"-37.8\" font-family=\"Times,serif\" font-size=\"14.00\" fill=\"#000000\">samples = 0.2%</text>\n<text text-anchor=\"middle\" x=\"1393.5\" y=\"-22.8\" font-family=\"Times,serif\" font-size=\"14.00\" fill=\"#000000\">value = [0.976, 0.024]</text>\n<text text-anchor=\"middle\" x=\"1393.5\" y=\"-7.8\" font-family=\"Times,serif\" font-size=\"14.00\" fill=\"#000000\">class = &gt;=50K</text>\n</g>\n<!-- 19&#45;&gt;20 -->\n<g id=\"edge20\" class=\"edge\">\n<title>19&#45;&gt;20</title>\n<path fill=\"none\" stroke=\"#000000\" d=\"M1470.5451,-88.9777C1458.8014,-79.4545 1446.0562,-69.1191 1434.376,-59.6473\"/>\n<polygon fill=\"#000000\" stroke=\"#000000\" points=\"1436.4568,-56.8286 1426.4852,-53.2485 1432.0478,-62.2656 1436.4568,-56.8286\"/>\n</g>\n<!-- 21 -->\n<g id=\"node22\" class=\"node\">\n<title>21</title>\n<polygon fill=\"#399de5\" fill-opacity=\"0.427451\" stroke=\"#000000\" points=\"1632,-53 1485,-53 1485,0 1632,0 1632,-53\"/>\n<text text-anchor=\"middle\" x=\"1558.5\" y=\"-37.8\" font-family=\"Times,serif\" font-size=\"14.00\" fill=\"#000000\">samples = 0.1%</text>\n<text text-anchor=\"middle\" x=\"1558.5\" y=\"-22.8\" font-family=\"Times,serif\" font-size=\"14.00\" fill=\"#000000\">value = [0.364, 0.636]</text>\n<text text-anchor=\"middle\" x=\"1558.5\" y=\"-7.8\" font-family=\"Times,serif\" font-size=\"14.00\" fill=\"#000000\">class = &lt;=50K</text>\n</g>\n<!-- 19&#45;&gt;21 -->\n<g id=\"edge21\" class=\"edge\">\n<title>19&#45;&gt;21</title>\n<path fill=\"none\" stroke=\"#000000\" d=\"M1528.7179,-88.9777C1532.821,-80.3702 1537.2403,-71.0992 1541.3861,-62.402\"/>\n<polygon fill=\"#000000\" stroke=\"#000000\" points=\"1544.6058,-63.7814 1545.7494,-53.2485 1538.287,-60.7693 1544.6058,-63.7814\"/>\n</g>\n<!-- 23 -->\n<g id=\"node24\" class=\"node\">\n<title>23</title>\n<polygon fill=\"#e58139\" fill-opacity=\"0.749020\" stroke=\"#000000\" points=\"1832.5,-157 1676.5,-157 1676.5,-89 1832.5,-89 1832.5,-157\"/>\n<text text-anchor=\"middle\" x=\"1754.5\" y=\"-141.8\" font-family=\"Times,serif\" font-size=\"14.00\" fill=\"#000000\">hours&#45;per&#45;week &lt;= 36.0</text>\n<text text-anchor=\"middle\" x=\"1754.5\" y=\"-126.8\" font-family=\"Times,serif\" font-size=\"14.00\" fill=\"#000000\">samples = 0.0%</text>\n<text text-anchor=\"middle\" x=\"1754.5\" y=\"-111.8\" font-family=\"Times,serif\" font-size=\"14.00\" fill=\"#000000\">value = [0.8, 0.2]</text>\n<text text-anchor=\"middle\" x=\"1754.5\" y=\"-96.8\" font-family=\"Times,serif\" font-size=\"14.00\" fill=\"#000000\">class = &gt;=50K</text>\n</g>\n<!-- 22&#45;&gt;23 -->\n<g id=\"edge23\" class=\"edge\">\n<title>22&#45;&gt;23</title>\n<path fill=\"none\" stroke=\"#000000\" d=\"M1754.5,-192.9465C1754.5,-184.776 1754.5,-175.9318 1754.5,-167.3697\"/>\n<polygon fill=\"#000000\" stroke=\"#000000\" points=\"1758.0001,-167.13 1754.5,-157.13 1751.0001,-167.13 1758.0001,-167.13\"/>\n</g>\n<!-- 26 -->\n<g id=\"node27\" class=\"node\">\n<title>26</title>\n<polygon fill=\"#399de5\" fill-opacity=\"0.988235\" stroke=\"#000000\" points=\"2052,-157 1905,-157 1905,-89 2052,-89 2052,-157\"/>\n<text text-anchor=\"middle\" x=\"1978.5\" y=\"-141.8\" font-family=\"Times,serif\" font-size=\"14.00\" fill=\"#000000\">education&#45;num &lt;= 2.0</text>\n<text text-anchor=\"middle\" x=\"1978.5\" y=\"-126.8\" font-family=\"Times,serif\" font-size=\"14.00\" fill=\"#000000\">samples = 4.2%</text>\n<text text-anchor=\"middle\" x=\"1978.5\" y=\"-111.8\" font-family=\"Times,serif\" font-size=\"14.00\" fill=\"#000000\">value = [0.012, 0.988]</text>\n<text text-anchor=\"middle\" x=\"1978.5\" y=\"-96.8\" font-family=\"Times,serif\" font-size=\"14.00\" fill=\"#000000\">class = &lt;=50K</text>\n</g>\n<!-- 22&#45;&gt;26 -->\n<g id=\"edge26\" class=\"edge\">\n<title>22&#45;&gt;26</title>\n<path fill=\"none\" stroke=\"#000000\" d=\"M1827.846,-192.9465C1849.6017,-182.8457 1873.5752,-171.7151 1895.8767,-161.3608\"/>\n<polygon fill=\"#000000\" stroke=\"#000000\" points=\"1897.393,-164.5157 1904.9892,-157.13 1894.4452,-158.1666 1897.393,-164.5157\"/>\n</g>\n<!-- 24 -->\n<g id=\"node25\" class=\"node\">\n<title>24</title>\n<polygon fill=\"#e58139\" stroke=\"#000000\" points=\"1767,-53 1650,-53 1650,0 1767,0 1767,-53\"/>\n<text text-anchor=\"middle\" x=\"1708.5\" y=\"-37.8\" font-family=\"Times,serif\" font-size=\"14.00\" fill=\"#000000\">samples = 0.0%</text>\n<text text-anchor=\"middle\" x=\"1708.5\" y=\"-22.8\" font-family=\"Times,serif\" font-size=\"14.00\" fill=\"#000000\">value = [1.0, 0.0]</text>\n<text text-anchor=\"middle\" x=\"1708.5\" y=\"-7.8\" font-family=\"Times,serif\" font-size=\"14.00\" fill=\"#000000\">class = &gt;=50K</text>\n</g>\n<!-- 23&#45;&gt;24 -->\n<g id=\"edge24\" class=\"edge\">\n<title>23&#45;&gt;24</title>\n<path fill=\"none\" stroke=\"#000000\" d=\"M1738.2821,-88.9777C1734.179,-80.3702 1729.7597,-71.0992 1725.6139,-62.402\"/>\n<polygon fill=\"#000000\" stroke=\"#000000\" points=\"1728.713,-60.7693 1721.2506,-53.2485 1722.3942,-63.7814 1728.713,-60.7693\"/>\n</g>\n<!-- 25 -->\n<g id=\"node26\" class=\"node\">\n<title>25</title>\n<polygon fill=\"#399de5\" stroke=\"#000000\" points=\"1902,-53 1785,-53 1785,0 1902,0 1902,-53\"/>\n<text text-anchor=\"middle\" x=\"1843.5\" y=\"-37.8\" font-family=\"Times,serif\" font-size=\"14.00\" fill=\"#000000\">samples = 0.0%</text>\n<text text-anchor=\"middle\" x=\"1843.5\" y=\"-22.8\" font-family=\"Times,serif\" font-size=\"14.00\" fill=\"#000000\">value = [0.0, 1.0]</text>\n<text text-anchor=\"middle\" x=\"1843.5\" y=\"-7.8\" font-family=\"Times,serif\" font-size=\"14.00\" fill=\"#000000\">class = &lt;=50K</text>\n</g>\n<!-- 23&#45;&gt;25 -->\n<g id=\"edge25\" class=\"edge\">\n<title>23&#45;&gt;25</title>\n<path fill=\"none\" stroke=\"#000000\" d=\"M1785.8781,-88.9777C1794.3234,-79.8207 1803.4611,-69.9129 1811.9175,-60.744\"/>\n<polygon fill=\"#000000\" stroke=\"#000000\" points=\"1814.6236,-62.9723 1818.8304,-53.2485 1809.4779,-58.2266 1814.6236,-62.9723\"/>\n</g>\n<!-- 27 -->\n<g id=\"node28\" class=\"node\">\n<title>27</title>\n<polygon fill=\"#e58139\" stroke=\"#000000\" points=\"2037,-53 1920,-53 1920,0 2037,0 2037,-53\"/>\n<text text-anchor=\"middle\" x=\"1978.5\" y=\"-37.8\" font-family=\"Times,serif\" font-size=\"14.00\" fill=\"#000000\">samples = 0.0%</text>\n<text text-anchor=\"middle\" x=\"1978.5\" y=\"-22.8\" font-family=\"Times,serif\" font-size=\"14.00\" fill=\"#000000\">value = [1.0, 0.0]</text>\n<text text-anchor=\"middle\" x=\"1978.5\" y=\"-7.8\" font-family=\"Times,serif\" font-size=\"14.00\" fill=\"#000000\">class = &gt;=50K</text>\n</g>\n<!-- 26&#45;&gt;27 -->\n<g id=\"edge27\" class=\"edge\">\n<title>26&#45;&gt;27</title>\n<path fill=\"none\" stroke=\"#000000\" d=\"M1978.5,-88.9777C1978.5,-80.7364 1978.5,-71.887 1978.5,-63.5153\"/>\n<polygon fill=\"#000000\" stroke=\"#000000\" points=\"1982.0001,-63.2484 1978.5,-53.2485 1975.0001,-63.2485 1982.0001,-63.2484\"/>\n</g>\n<!-- 28 -->\n<g id=\"node29\" class=\"node\">\n<title>28</title>\n<polygon fill=\"#399de5\" fill-opacity=\"0.988235\" stroke=\"#000000\" points=\"2201.5,-53 2055.5,-53 2055.5,0 2201.5,0 2201.5,-53\"/>\n<text text-anchor=\"middle\" x=\"2128.5\" y=\"-37.8\" font-family=\"Times,serif\" font-size=\"14.00\" fill=\"#000000\">samples = 4.2%</text>\n<text text-anchor=\"middle\" x=\"2128.5\" y=\"-22.8\" font-family=\"Times,serif\" font-size=\"14.00\" fill=\"#000000\">value = [0.011, 0.989]</text>\n<text text-anchor=\"middle\" x=\"2128.5\" y=\"-7.8\" font-family=\"Times,serif\" font-size=\"14.00\" fill=\"#000000\">class = &lt;=50K</text>\n</g>\n<!-- 26&#45;&gt;28 -->\n<g id=\"edge28\" class=\"edge\">\n<title>26&#45;&gt;28</title>\n<path fill=\"none\" stroke=\"#000000\" d=\"M2031.3844,-88.9777C2046.6144,-79.1798 2063.1806,-68.5222 2078.2464,-58.8298\"/>\n<polygon fill=\"#000000\" stroke=\"#000000\" points=\"2080.4057,-61.6024 2086.9221,-53.2485 2076.6184,-55.7154 2080.4057,-61.6024\"/>\n</g>\n</g>\n</svg>\n"
          },
          "metadata": {
            "tags": []
          },
          "execution_count": 244
        }
      ]
    },
    {
      "cell_type": "markdown",
      "metadata": {
        "id": "ZI-D3_7bq_Z5",
        "colab_type": "text"
      },
      "source": [
        "Looks like capital gain, education and age makes a big difference if person has income above $50K or not."
      ]
    },
    {
      "cell_type": "markdown",
      "metadata": {
        "id": "OTkyAmiEZMKj",
        "colab_type": "text"
      },
      "source": [
        "###Next###\n",
        "- Scale your numeric features, using any scikit-learn Scaler of your choice.\n",
        "- Encode your categorical features. You may use any encoding (One-Hot, Ordinal, etc) and any library (category_encoders, scikit-learn, pandas, etc) of your choice.\n",
        "- You may choose to use a pipeline, but it is not required."
      ]
    },
    {
      "cell_type": "markdown",
      "metadata": {
        "id": "Mvk9AYjo146u",
        "colab_type": "text"
      },
      "source": [
        "##Scaling"
      ]
    },
    {
      "cell_type": "code",
      "metadata": {
        "id": "VSd7l5A113CV",
        "colab_type": "code",
        "colab": {}
      },
      "source": [
        "scaler = StandardScaler()\n",
        "X_train_scaled = scaler.fit_transform(X_train_numeric)\n"
      ],
      "execution_count": 0,
      "outputs": []
    },
    {
      "cell_type": "markdown",
      "metadata": {
        "id": "N6sZoCFlaQ9Y",
        "colab_type": "text"
      },
      "source": [
        "##Encoding##"
      ]
    },
    {
      "cell_type": "code",
      "metadata": {
        "id": "gxhqvq-sZ4CZ",
        "colab_type": "code",
        "colab": {
          "base_uri": "https://localhost:8080/",
          "height": 168
        },
        "outputId": "49b561c2-dbc2-4f33-c153-039a63144bc0"
      },
      "source": [
        "X_train.select_dtypes(exclude='number').nunique()"
      ],
      "execution_count": 245,
      "outputs": [
        {
          "output_type": "execute_result",
          "data": {
            "text/plain": [
              "workclass          9\n",
              "education         16\n",
              "marital-status     7\n",
              "occupation        15\n",
              "relationship       6\n",
              "race               5\n",
              "sex                2\n",
              "native-country    42\n",
              "dtype: int64"
            ]
          },
          "metadata": {
            "tags": []
          },
          "execution_count": 245
        }
      ]
    },
    {
      "cell_type": "markdown",
      "metadata": {
        "id": "GDMxNAs-ap31",
        "colab_type": "text"
      },
      "source": [
        "- #too many in native-country, I will encode it but might want to use it later.\n",
        "- #use occupation, relationship, race, and sex"
      ]
    },
    {
      "cell_type": "code",
      "metadata": {
        "id": "B8Usf7UcZ3ij",
        "colab_type": "code",
        "colab": {
          "base_uri": "https://localhost:8080/",
          "height": 34
        },
        "outputId": "7c85030a-f500-4d39-ad76-9fd28afb137a"
      },
      "source": [
        "from sklearn.pipeline import make_pipeline\n",
        "\n",
        "pipeline = make_pipeline(\n",
        "    ce.OneHotEncoder(use_cat_names = True),\n",
        "    StandardScaler(),    \n",
        "    LogisticRegression(solver = 'lbfgs', max_iter = 1000)\n",
        ")\n",
        "\n",
        "pipeline.fit(X_train, y_train) #since we encoded the categorical, we don't use x_train_numeric\n",
        "y_pred_proba = pipeline.predict_proba(X_test)[:, 1]\n",
        "cross_val = cross_val_score(pipeline, X_train, y_train, scoring='accuracy', cv=5).mean()\n",
        "\n",
        "print('Cross_Validation_Score', cross_val)"
      ],
      "execution_count": 248,
      "outputs": [
        {
          "output_type": "stream",
          "text": [
            "Cross_Validation_Score 0.8503145707138353\n"
          ],
          "name": "stdout"
        }
      ]
    },
    {
      "cell_type": "markdown",
      "metadata": {
        "id": "J0vtqXL7r0-U",
        "colab_type": "text"
      },
      "source": [
        "So, Using all the features (both numeric and categorical),  we get a Cross_validation score of 0.85 ."
      ]
    },
    {
      "cell_type": "markdown",
      "metadata": {
        "id": "8kKvVqk5Q00J",
        "colab_type": "text"
      },
      "source": [
        "## Part 3 — Modeling with Tree Ensembles!\n",
        "\n",
        "Part 3 is the same as Part 2, except this time, use a **Random Forest** or **Gradient Boosting** classifier. You may use scikit-learn, xgboost, or any other library. Then, print your model's cross-validation accuracy score."
      ]
    },
    {
      "cell_type": "code",
      "metadata": {
        "id": "X5WB6FBtd6zD",
        "colab_type": "code",
        "colab": {
          "base_uri": "https://localhost:8080/",
          "height": 232
        },
        "outputId": "ea980aef-47d1-48f0-e681-363e8f5c7a80"
      },
      "source": [
        "pipeline = make_pipeline(ce.OrdinalEncoder(), SimpleImputer(), StandardScaler())\n",
        "X_train = pipeline.fit_transform(df[features])\n",
        "X_train = pd.DataFrame(X_train, columns=features)\n",
        "y_train = df[target]\n",
        "X_train.head()"
      ],
      "execution_count": 249,
      "outputs": [
        {
          "output_type": "execute_result",
          "data": {
            "text/html": [
              "<div>\n",
              "<style scoped>\n",
              "    .dataframe tbody tr th:only-of-type {\n",
              "        vertical-align: middle;\n",
              "    }\n",
              "\n",
              "    .dataframe tbody tr th {\n",
              "        vertical-align: top;\n",
              "    }\n",
              "\n",
              "    .dataframe thead th {\n",
              "        text-align: right;\n",
              "    }\n",
              "</style>\n",
              "<table border=\"1\" class=\"dataframe\">\n",
              "  <thead>\n",
              "    <tr style=\"text-align: right;\">\n",
              "      <th></th>\n",
              "      <th>age</th>\n",
              "      <th>workclass</th>\n",
              "      <th>fnlwgt</th>\n",
              "      <th>education</th>\n",
              "      <th>education-num</th>\n",
              "      <th>marital-status</th>\n",
              "      <th>occupation</th>\n",
              "      <th>relationship</th>\n",
              "      <th>race</th>\n",
              "      <th>sex</th>\n",
              "      <th>capital-gain</th>\n",
              "      <th>capital-loss</th>\n",
              "      <th>hours-per-week</th>\n",
              "      <th>native-country</th>\n",
              "    </tr>\n",
              "  </thead>\n",
              "  <tbody>\n",
              "    <tr>\n",
              "      <th>0</th>\n",
              "      <td>0.030671</td>\n",
              "      <td>-1.884600</td>\n",
              "      <td>-1.063611</td>\n",
              "      <td>-0.991584</td>\n",
              "      <td>1.134739</td>\n",
              "      <td>-0.866082</td>\n",
              "      <td>-1.378121</td>\n",
              "      <td>-1.073040</td>\n",
              "      <td>-0.353409</td>\n",
              "      <td>-0.703071</td>\n",
              "      <td>0.148453</td>\n",
              "      <td>-0.21666</td>\n",
              "      <td>-0.035429</td>\n",
              "      <td>-0.255746</td>\n",
              "    </tr>\n",
              "    <tr>\n",
              "      <th>1</th>\n",
              "      <td>0.837109</td>\n",
              "      <td>-1.068746</td>\n",
              "      <td>-1.008707</td>\n",
              "      <td>-0.991584</td>\n",
              "      <td>1.134739</td>\n",
              "      <td>-0.066952</td>\n",
              "      <td>-1.082793</td>\n",
              "      <td>-0.377344</td>\n",
              "      <td>-0.353409</td>\n",
              "      <td>-0.703071</td>\n",
              "      <td>-0.145920</td>\n",
              "      <td>-0.21666</td>\n",
              "      <td>-2.222153</td>\n",
              "      <td>-0.255746</td>\n",
              "    </tr>\n",
              "    <tr>\n",
              "      <th>2</th>\n",
              "      <td>-0.042642</td>\n",
              "      <td>-0.252892</td>\n",
              "      <td>0.245079</td>\n",
              "      <td>-0.702025</td>\n",
              "      <td>-0.420060</td>\n",
              "      <td>0.732178</td>\n",
              "      <td>-0.787465</td>\n",
              "      <td>-1.073040</td>\n",
              "      <td>-0.353409</td>\n",
              "      <td>-0.703071</td>\n",
              "      <td>-0.145920</td>\n",
              "      <td>-0.21666</td>\n",
              "      <td>-0.035429</td>\n",
              "      <td>-0.255746</td>\n",
              "    </tr>\n",
              "    <tr>\n",
              "      <th>3</th>\n",
              "      <td>1.057047</td>\n",
              "      <td>-0.252892</td>\n",
              "      <td>0.425801</td>\n",
              "      <td>-0.412467</td>\n",
              "      <td>-1.197459</td>\n",
              "      <td>-0.066952</td>\n",
              "      <td>-0.787465</td>\n",
              "      <td>-0.377344</td>\n",
              "      <td>1.240627</td>\n",
              "      <td>-0.703071</td>\n",
              "      <td>-0.145920</td>\n",
              "      <td>-0.21666</td>\n",
              "      <td>-0.035429</td>\n",
              "      <td>-0.255746</td>\n",
              "    </tr>\n",
              "    <tr>\n",
              "      <th>4</th>\n",
              "      <td>-0.775768</td>\n",
              "      <td>-0.252892</td>\n",
              "      <td>1.408176</td>\n",
              "      <td>-0.991584</td>\n",
              "      <td>1.134739</td>\n",
              "      <td>-0.066952</td>\n",
              "      <td>-0.492138</td>\n",
              "      <td>0.318352</td>\n",
              "      <td>1.240627</td>\n",
              "      <td>1.422331</td>\n",
              "      <td>-0.145920</td>\n",
              "      <td>-0.21666</td>\n",
              "      <td>-0.035429</td>\n",
              "      <td>-0.057542</td>\n",
              "    </tr>\n",
              "  </tbody>\n",
              "</table>\n",
              "</div>"
            ],
            "text/plain": [
              "        age  workclass    fnlwgt  education  education-num  marital-status  \\\n",
              "0  0.030671  -1.884600 -1.063611  -0.991584       1.134739       -0.866082   \n",
              "1  0.837109  -1.068746 -1.008707  -0.991584       1.134739       -0.066952   \n",
              "2 -0.042642  -0.252892  0.245079  -0.702025      -0.420060        0.732178   \n",
              "3  1.057047  -0.252892  0.425801  -0.412467      -1.197459       -0.066952   \n",
              "4 -0.775768  -0.252892  1.408176  -0.991584       1.134739       -0.066952   \n",
              "\n",
              "   occupation  relationship      race       sex  capital-gain  capital-loss  \\\n",
              "0   -1.378121     -1.073040 -0.353409 -0.703071      0.148453      -0.21666   \n",
              "1   -1.082793     -0.377344 -0.353409 -0.703071     -0.145920      -0.21666   \n",
              "2   -0.787465     -1.073040 -0.353409 -0.703071     -0.145920      -0.21666   \n",
              "3   -0.787465     -0.377344  1.240627 -0.703071     -0.145920      -0.21666   \n",
              "4   -0.492138      0.318352  1.240627  1.422331     -0.145920      -0.21666   \n",
              "\n",
              "   hours-per-week  native-country  \n",
              "0       -0.035429       -0.255746  \n",
              "1       -2.222153       -0.255746  \n",
              "2       -0.035429       -0.255746  \n",
              "3       -0.035429       -0.255746  \n",
              "4       -0.035429       -0.057542  "
            ]
          },
          "metadata": {
            "tags": []
          },
          "execution_count": 249
        }
      ]
    },
    {
      "cell_type": "code",
      "metadata": {
        "id": "JviC3aIWeXQc",
        "colab_type": "code",
        "colab": {
          "base_uri": "https://localhost:8080/",
          "height": 168
        },
        "outputId": "c7693520-dea7-4f10-ba48-570e16ba7404"
      },
      "source": [
        "from sklearn.model_selection import cross_val_score\n",
        "\n",
        "model = XGBClassifier(max_depth=3, n_estimators=100, n_jobs=-1, random_state=42)\n",
        "\n",
        "print(model, '\\n')\n",
        "\n",
        "score = cross_val_score(model, X_train, y_train, scoring='accuracy', cv=5).mean()\n",
        "print('Cross-Validation Accuracy:', score, '\\n')"
      ],
      "execution_count": 118,
      "outputs": [
        {
          "output_type": "stream",
          "text": [
            "XGBClassifier(base_score=0.5, booster='gbtree', colsample_bylevel=1,\n",
            "       colsample_bytree=1, gamma=0, learning_rate=0.1, max_delta_step=0,\n",
            "       max_depth=3, min_child_weight=1, missing=None, n_estimators=100,\n",
            "       n_jobs=-1, nthread=None, objective='binary:logistic',\n",
            "       random_state=42, reg_alpha=0, reg_lambda=1, scale_pos_weight=1,\n",
            "       seed=None, silent=True, subsample=1) \n",
            "\n",
            "Cross-Validation Accuracy: 0.8626271554415267 \n",
            "\n"
          ],
          "name": "stdout"
        }
      ]
    },
    {
      "cell_type": "markdown",
      "metadata": {
        "id": "ULfrTjF9emG1",
        "colab_type": "text"
      },
      "source": [
        "We get a slightly higher cross-validation accuracy score using Gradient Booster than Linear Regression because Gradient Booster takes samples and trains model based on the residuals of the last sample. "
      ]
    },
    {
      "cell_type": "markdown",
      "metadata": {
        "colab_type": "text",
        "id": "jkyHoRIbEgRR"
      },
      "source": [
        "## Part 4 — Calculate classification metrics from a confusion matrix\n",
        "\n",
        "Suppose this is the confusion matrix for your binary classification model:\n",
        "\n",
        "<table>\n",
        "  <tr>\n",
        "    <td colspan=\"2\" rowspan=\"2\"></td>\n",
        "    <td colspan=\"2\">Predicted</td>\n",
        "  </tr>\n",
        "  <tr>\n",
        "    <td>Negative</td>\n",
        "    <td>Positive</td>\n",
        "  </tr>\n",
        "  <tr>\n",
        "    <td rowspan=\"2\">Actual</td>\n",
        "    <td>Negative</td>\n",
        "    <td style=\"border: solid\">85</td>\n",
        "    <td style=\"border: solid\">58</td>\n",
        "  </tr>\n",
        "  <tr>\n",
        "    <td>Positive</td>\n",
        "    <td style=\"border: solid\">8</td>\n",
        "    <td style=\"border: solid\"> 36</td>\n",
        "  </tr>\n",
        "</table>"
      ]
    },
    {
      "cell_type": "code",
      "metadata": {
        "id": "ztAvt_f4fyRP",
        "colab_type": "code",
        "colab": {}
      },
      "source": [
        "true_negative  = 85\n",
        "false_positive = 58\n",
        "false_negative = 8\n",
        "true_positive  = 36\n",
        "\n",
        "actual_negative = 85+58\n",
        "\n",
        "actual_positive = 8+36\n",
        "\n",
        "predicted_negative = (true_negative + false_negative)\n",
        "predicted_positive = (true_positive + false_positive)\n"
      ],
      "execution_count": 0,
      "outputs": []
    },
    {
      "cell_type": "markdown",
      "metadata": {
        "colab_type": "text",
        "id": "LhyMM5H-JpVB"
      },
      "source": [
        "Calculate accuracy"
      ]
    },
    {
      "cell_type": "code",
      "metadata": {
        "colab_type": "code",
        "id": "TZPwqdh2KUcB",
        "colab": {}
      },
      "source": [
        "accuracy = (true_positive + true_negative)/ (predicted_negative + predicted_positive)"
      ],
      "execution_count": 0,
      "outputs": []
    },
    {
      "cell_type": "markdown",
      "metadata": {
        "colab_type": "text",
        "id": "BRWLfGcGKeQw"
      },
      "source": [
        "Calculate precision"
      ]
    },
    {
      "cell_type": "code",
      "metadata": {
        "colab_type": "code",
        "id": "A-FEZ4i_Kf_n",
        "colab": {}
      },
      "source": [
        "precision = true_positive/predicted_positive\n",
        "#based on relevance. precision is saying, of the elements you selected, how many are relevant"
      ],
      "execution_count": 0,
      "outputs": []
    },
    {
      "cell_type": "markdown",
      "metadata": {
        "colab_type": "text",
        "id": "h_mH2NYDKi2C"
      },
      "source": [
        "Calculate recall"
      ]
    },
    {
      "cell_type": "code",
      "metadata": {
        "colab_type": "code",
        "id": "U4_wJGyjKkXJ",
        "colab": {}
      },
      "source": [
        "recall = true_positive/actual_positive\n",
        "#of all that are relevant, how many did you select"
      ],
      "execution_count": 0,
      "outputs": []
    },
    {
      "cell_type": "markdown",
      "metadata": {
        "id": "rQNfOga7fsZn",
        "colab_type": "text"
      },
      "source": [
        "###Print Accuracy, Precision, & Recall###"
      ]
    },
    {
      "cell_type": "code",
      "metadata": {
        "id": "kdc_Gvv0fjnD",
        "colab_type": "code",
        "colab": {
          "base_uri": "https://localhost:8080/",
          "height": 34
        },
        "outputId": "d27a6d35-7017-4b74-9fef-2ddf772b90bd"
      },
      "source": [
        "print(\"Accuracy\", accuracy, 'Precision:', precision, 'recall', recall)"
      ],
      "execution_count": 124,
      "outputs": [
        {
          "output_type": "stream",
          "text": [
            "Accuracy 0.6470588235294118 Precision: 0.3829787234042553 recall 0.8181818181818182\n"
          ],
          "name": "stdout"
        }
      ]
    },
    {
      "cell_type": "markdown",
      "metadata": {
        "colab_type": "text",
        "id": "9KEaWsk5Kk9W"
      },
      "source": [
        "## BONUS — How you can earn a score of 3\n",
        "\n",
        "### Part 1\n",
        "Do feature engineering, to try improving your cross-validation score.\n",
        "\n",
        "### Part 2\n",
        "Experiment with feature selection, preprocessing, categorical encoding, and hyperparameter optimization, to try improving your cross-validation score.\n",
        "\n",
        "### Part 3\n",
        "Which model had the best cross-validation score? Refit this model on the train set and do a final evaluation on the held out test set — what is the test score? \n",
        "\n",
        "### Part 4\n",
        "Calculate F1 score and False Positive Rate. "
      ]
    },
    {
      "cell_type": "code",
      "metadata": {
        "id": "YqB7z8uCtbVs",
        "colab_type": "code",
        "colab": {
          "base_uri": "https://localhost:8080/",
          "height": 383
        },
        "outputId": "858518ed-31f2-461a-8491-faaae95b0d85"
      },
      "source": [
        "df.head()"
      ],
      "execution_count": 125,
      "outputs": [
        {
          "output_type": "execute_result",
          "data": {
            "text/html": [
              "<div>\n",
              "<style scoped>\n",
              "    .dataframe tbody tr th:only-of-type {\n",
              "        vertical-align: middle;\n",
              "    }\n",
              "\n",
              "    .dataframe tbody tr th {\n",
              "        vertical-align: top;\n",
              "    }\n",
              "\n",
              "    .dataframe thead th {\n",
              "        text-align: right;\n",
              "    }\n",
              "</style>\n",
              "<table border=\"1\" class=\"dataframe\">\n",
              "  <thead>\n",
              "    <tr style=\"text-align: right;\">\n",
              "      <th></th>\n",
              "      <th>age</th>\n",
              "      <th>workclass</th>\n",
              "      <th>fnlwgt</th>\n",
              "      <th>education</th>\n",
              "      <th>education-num</th>\n",
              "      <th>marital-status</th>\n",
              "      <th>occupation</th>\n",
              "      <th>relationship</th>\n",
              "      <th>race</th>\n",
              "      <th>sex</th>\n",
              "      <th>capital-gain</th>\n",
              "      <th>capital-loss</th>\n",
              "      <th>hours-per-week</th>\n",
              "      <th>native-country</th>\n",
              "      <th>income</th>\n",
              "    </tr>\n",
              "  </thead>\n",
              "  <tbody>\n",
              "    <tr>\n",
              "      <th>0</th>\n",
              "      <td>39</td>\n",
              "      <td>State-gov</td>\n",
              "      <td>77516</td>\n",
              "      <td>Bachelors</td>\n",
              "      <td>13</td>\n",
              "      <td>Never-married</td>\n",
              "      <td>Adm-clerical</td>\n",
              "      <td>Not-in-family</td>\n",
              "      <td>White</td>\n",
              "      <td>Male</td>\n",
              "      <td>2174</td>\n",
              "      <td>0</td>\n",
              "      <td>40</td>\n",
              "      <td>United-States</td>\n",
              "      <td>&lt;=50K</td>\n",
              "    </tr>\n",
              "    <tr>\n",
              "      <th>1</th>\n",
              "      <td>50</td>\n",
              "      <td>Self-emp-not-inc</td>\n",
              "      <td>83311</td>\n",
              "      <td>Bachelors</td>\n",
              "      <td>13</td>\n",
              "      <td>Married-civ-spouse</td>\n",
              "      <td>Exec-managerial</td>\n",
              "      <td>Husband</td>\n",
              "      <td>White</td>\n",
              "      <td>Male</td>\n",
              "      <td>0</td>\n",
              "      <td>0</td>\n",
              "      <td>13</td>\n",
              "      <td>United-States</td>\n",
              "      <td>&lt;=50K</td>\n",
              "    </tr>\n",
              "    <tr>\n",
              "      <th>2</th>\n",
              "      <td>38</td>\n",
              "      <td>Private</td>\n",
              "      <td>215646</td>\n",
              "      <td>HS-grad</td>\n",
              "      <td>9</td>\n",
              "      <td>Divorced</td>\n",
              "      <td>Handlers-cleaners</td>\n",
              "      <td>Not-in-family</td>\n",
              "      <td>White</td>\n",
              "      <td>Male</td>\n",
              "      <td>0</td>\n",
              "      <td>0</td>\n",
              "      <td>40</td>\n",
              "      <td>United-States</td>\n",
              "      <td>&lt;=50K</td>\n",
              "    </tr>\n",
              "    <tr>\n",
              "      <th>3</th>\n",
              "      <td>53</td>\n",
              "      <td>Private</td>\n",
              "      <td>234721</td>\n",
              "      <td>11th</td>\n",
              "      <td>7</td>\n",
              "      <td>Married-civ-spouse</td>\n",
              "      <td>Handlers-cleaners</td>\n",
              "      <td>Husband</td>\n",
              "      <td>Black</td>\n",
              "      <td>Male</td>\n",
              "      <td>0</td>\n",
              "      <td>0</td>\n",
              "      <td>40</td>\n",
              "      <td>United-States</td>\n",
              "      <td>&lt;=50K</td>\n",
              "    </tr>\n",
              "    <tr>\n",
              "      <th>4</th>\n",
              "      <td>28</td>\n",
              "      <td>Private</td>\n",
              "      <td>338409</td>\n",
              "      <td>Bachelors</td>\n",
              "      <td>13</td>\n",
              "      <td>Married-civ-spouse</td>\n",
              "      <td>Prof-specialty</td>\n",
              "      <td>Wife</td>\n",
              "      <td>Black</td>\n",
              "      <td>Female</td>\n",
              "      <td>0</td>\n",
              "      <td>0</td>\n",
              "      <td>40</td>\n",
              "      <td>Cuba</td>\n",
              "      <td>&lt;=50K</td>\n",
              "    </tr>\n",
              "  </tbody>\n",
              "</table>\n",
              "</div>"
            ],
            "text/plain": [
              "   age          workclass  fnlwgt   education  education-num  \\\n",
              "0   39          State-gov   77516   Bachelors             13   \n",
              "1   50   Self-emp-not-inc   83311   Bachelors             13   \n",
              "2   38            Private  215646     HS-grad              9   \n",
              "3   53            Private  234721        11th              7   \n",
              "4   28            Private  338409   Bachelors             13   \n",
              "\n",
              "        marital-status          occupation    relationship    race      sex  \\\n",
              "0        Never-married        Adm-clerical   Not-in-family   White     Male   \n",
              "1   Married-civ-spouse     Exec-managerial         Husband   White     Male   \n",
              "2             Divorced   Handlers-cleaners   Not-in-family   White     Male   \n",
              "3   Married-civ-spouse   Handlers-cleaners         Husband   Black     Male   \n",
              "4   Married-civ-spouse      Prof-specialty            Wife   Black   Female   \n",
              "\n",
              "   capital-gain  capital-loss  hours-per-week  native-country income  \n",
              "0          2174             0              40   United-States  <=50K  \n",
              "1             0             0              13   United-States  <=50K  \n",
              "2             0             0              40   United-States  <=50K  \n",
              "3             0             0              40   United-States  <=50K  \n",
              "4             0             0              40            Cuba  <=50K  "
            ]
          },
          "metadata": {
            "tags": []
          },
          "execution_count": 125
        }
      ]
    },
    {
      "cell_type": "markdown",
      "metadata": {
        "id": "iGbfjiAhy73p",
        "colab_type": "text"
      },
      "source": [
        "## Part1: Feature Engineering##"
      ]
    },
    {
      "cell_type": "code",
      "metadata": {
        "id": "2KGe6cB-xFxT",
        "colab_type": "code",
        "colab": {}
      },
      "source": [
        "df['hard_working'] = (df['age'] >= 30) & (df['hours-per-week'] >= 40)"
      ],
      "execution_count": 0,
      "outputs": []
    },
    {
      "cell_type": "code",
      "metadata": {
        "id": "OaSM2RqFxQjp",
        "colab_type": "code",
        "colab": {
          "base_uri": "https://localhost:8080/",
          "height": 67
        },
        "outputId": "8c30b022-37fd-4c7e-9499-a2b82447d0c1"
      },
      "source": [
        "df['hard_working'].value_counts()"
      ],
      "execution_count": 253,
      "outputs": [
        {
          "output_type": "execute_result",
          "data": {
            "text/plain": [
              "True     18656\n",
              "False    13905\n",
              "Name: hard_working, dtype: int64"
            ]
          },
          "metadata": {
            "tags": []
          },
          "execution_count": 253
        }
      ]
    },
    {
      "cell_type": "code",
      "metadata": {
        "id": "hh616QqZxXnR",
        "colab_type": "code",
        "colab": {}
      },
      "source": [
        "df['rich'] = (df['hours-per-week'] ==40) & (df['capital-gain'] >=15000)"
      ],
      "execution_count": 0,
      "outputs": []
    },
    {
      "cell_type": "code",
      "metadata": {
        "id": "_G2EM2oBxn1N",
        "colab_type": "code",
        "colab": {
          "base_uri": "https://localhost:8080/",
          "height": 67
        },
        "outputId": "4bff9f27-460b-461c-ca14-e1e030f15f6a"
      },
      "source": [
        "df['rich'].value_counts()"
      ],
      "execution_count": 255,
      "outputs": [
        {
          "output_type": "execute_result",
          "data": {
            "text/plain": [
              "False    32391\n",
              "True       170\n",
              "Name: rich, dtype: int64"
            ]
          },
          "metadata": {
            "tags": []
          },
          "execution_count": 255
        }
      ]
    },
    {
      "cell_type": "markdown",
      "metadata": {
        "id": "xrOemQdFhcY7",
        "colab_type": "text"
      },
      "source": [
        "##Part2: feature Selection"
      ]
    },
    {
      "cell_type": "markdown",
      "metadata": {
        "id": "VkHZ-KOqzmhI",
        "colab_type": "text"
      },
      "source": [
        "The shallow tree I made in the beginning showed that capital gain, age and education makes a difference. so I would use those as my features."
      ]
    },
    {
      "cell_type": "code",
      "metadata": {
        "id": "OuzhuP5qvX7s",
        "colab_type": "code",
        "colab": {}
      },
      "source": [
        "target = 'income'\n",
        "\n",
        "features = ['capital-gain', 'age', 'race', 'education-num', 'hard_working', 'rich']"
      ],
      "execution_count": 0,
      "outputs": []
    },
    {
      "cell_type": "code",
      "metadata": {
        "id": "7ipKBhKj0UpF",
        "colab_type": "code",
        "colab": {}
      },
      "source": [
        "y = df[target]\n",
        "X = df[features]"
      ],
      "execution_count": 0,
      "outputs": []
    },
    {
      "cell_type": "markdown",
      "metadata": {
        "id": "Fk_7yLJP0nsZ",
        "colab_type": "text"
      },
      "source": [
        "and then further split the data."
      ]
    },
    {
      "cell_type": "code",
      "metadata": {
        "id": "IqHQr0gt0lyU",
        "colab_type": "code",
        "colab": {}
      },
      "source": [
        "X_train, X_val, y_train, y_val = train_test_split(\n",
        "    X_train, y_train, test_size=0.3, random_state=42, stratify=y_train)"
      ],
      "execution_count": 0,
      "outputs": []
    },
    {
      "cell_type": "code",
      "metadata": {
        "id": "bSU36W1q233e",
        "colab_type": "code",
        "colab": {
          "base_uri": "https://localhost:8080/",
          "height": 195
        },
        "outputId": "9169ce89-8415-4930-a153-c48a7af45259"
      },
      "source": [
        "pipeline = make_pipeline(ce.OrdinalEncoder(), SimpleImputer(), StandardScaler())\n",
        "X_train = pipeline.fit_transform(df[features])\n",
        "X_train = pd.DataFrame(X_train, columns=features)\n",
        "y_train = df[target]\n",
        "X_train.head()"
      ],
      "execution_count": 266,
      "outputs": [
        {
          "output_type": "execute_result",
          "data": {
            "text/html": [
              "<div>\n",
              "<style scoped>\n",
              "    .dataframe tbody tr th:only-of-type {\n",
              "        vertical-align: middle;\n",
              "    }\n",
              "\n",
              "    .dataframe tbody tr th {\n",
              "        vertical-align: top;\n",
              "    }\n",
              "\n",
              "    .dataframe thead th {\n",
              "        text-align: right;\n",
              "    }\n",
              "</style>\n",
              "<table border=\"1\" class=\"dataframe\">\n",
              "  <thead>\n",
              "    <tr style=\"text-align: right;\">\n",
              "      <th></th>\n",
              "      <th>capital-gain</th>\n",
              "      <th>age</th>\n",
              "      <th>race</th>\n",
              "      <th>education-num</th>\n",
              "      <th>hard_working</th>\n",
              "      <th>rich</th>\n",
              "    </tr>\n",
              "  </thead>\n",
              "  <tbody>\n",
              "    <tr>\n",
              "      <th>0</th>\n",
              "      <td>0.148453</td>\n",
              "      <td>0.030671</td>\n",
              "      <td>-0.353409</td>\n",
              "      <td>1.134739</td>\n",
              "      <td>0.863329</td>\n",
              "      <td>-0.072446</td>\n",
              "    </tr>\n",
              "    <tr>\n",
              "      <th>1</th>\n",
              "      <td>-0.145920</td>\n",
              "      <td>0.837109</td>\n",
              "      <td>-0.353409</td>\n",
              "      <td>1.134739</td>\n",
              "      <td>-1.158307</td>\n",
              "      <td>-0.072446</td>\n",
              "    </tr>\n",
              "    <tr>\n",
              "      <th>2</th>\n",
              "      <td>-0.145920</td>\n",
              "      <td>-0.042642</td>\n",
              "      <td>-0.353409</td>\n",
              "      <td>-0.420060</td>\n",
              "      <td>0.863329</td>\n",
              "      <td>-0.072446</td>\n",
              "    </tr>\n",
              "    <tr>\n",
              "      <th>3</th>\n",
              "      <td>-0.145920</td>\n",
              "      <td>1.057047</td>\n",
              "      <td>1.240627</td>\n",
              "      <td>-1.197459</td>\n",
              "      <td>0.863329</td>\n",
              "      <td>-0.072446</td>\n",
              "    </tr>\n",
              "    <tr>\n",
              "      <th>4</th>\n",
              "      <td>-0.145920</td>\n",
              "      <td>-0.775768</td>\n",
              "      <td>1.240627</td>\n",
              "      <td>1.134739</td>\n",
              "      <td>-1.158307</td>\n",
              "      <td>-0.072446</td>\n",
              "    </tr>\n",
              "  </tbody>\n",
              "</table>\n",
              "</div>"
            ],
            "text/plain": [
              "   capital-gain       age      race  education-num  hard_working      rich\n",
              "0      0.148453  0.030671 -0.353409       1.134739      0.863329 -0.072446\n",
              "1     -0.145920  0.837109 -0.353409       1.134739     -1.158307 -0.072446\n",
              "2     -0.145920 -0.042642 -0.353409      -0.420060      0.863329 -0.072446\n",
              "3     -0.145920  1.057047  1.240627      -1.197459      0.863329 -0.072446\n",
              "4     -0.145920 -0.775768  1.240627       1.134739     -1.158307 -0.072446"
            ]
          },
          "metadata": {
            "tags": []
          },
          "execution_count": 266
        }
      ]
    },
    {
      "cell_type": "code",
      "metadata": {
        "id": "jcyI1xUO3mbe",
        "colab_type": "code",
        "colab": {
          "base_uri": "https://localhost:8080/",
          "height": 991
        },
        "outputId": "f27814fe-ea4b-4ee0-f141-00c518f6156a"
      },
      "source": [
        "from sklearn.model_selection import cross_val_score\n",
        "from sklearn.ensemble import RandomForestClassifier\n",
        "\n",
        "models = [LogisticRegression(solver='lbfgs', max_iter=1000), \n",
        "          DecisionTreeClassifier(max_depth=3), \n",
        "          DecisionTreeClassifier(max_depth=None), \n",
        "          RandomForestClassifier(max_depth=3, n_estimators=100, n_jobs=-1, random_state=42), \n",
        "          RandomForestClassifier(max_depth=None, n_estimators=100, n_jobs=-1, random_state=42), \n",
        "          XGBClassifier(max_depth=3, n_estimators=100, n_jobs=-1, random_state=42)]\n",
        "\n",
        "for model in models:\n",
        "    print(model, '\\n')\n",
        "    score = cross_val_score(model, X_train, y_train, scoring='accuracy', cv=5).mean()\n",
        "    print('Cross-Validation Accuracy:', score, '\\n', '\\n')"
      ],
      "execution_count": 271,
      "outputs": [
        {
          "output_type": "stream",
          "text": [
            "LogisticRegression(C=1.0, class_weight=None, dual=False, fit_intercept=True,\n",
            "          intercept_scaling=1, max_iter=1000, multi_class='warn',\n",
            "          n_jobs=None, penalty='l2', random_state=None, solver='lbfgs',\n",
            "          tol=0.0001, verbose=0, warm_start=False) \n",
            "\n",
            "Cross-Validation Accuracy: 0.8155154961292685 \n",
            " \n",
            "\n",
            "DecisionTreeClassifier(class_weight=None, criterion='gini', max_depth=3,\n",
            "            max_features=None, max_leaf_nodes=None,\n",
            "            min_impurity_decrease=0.0, min_impurity_split=None,\n",
            "            min_samples_leaf=1, min_samples_split=2,\n",
            "            min_weight_fraction_leaf=0.0, presort=False, random_state=None,\n",
            "            splitter='best') \n",
            "\n",
            "Cross-Validation Accuracy: 0.816037628013676 \n",
            " \n",
            "\n",
            "DecisionTreeClassifier(class_weight=None, criterion='gini', max_depth=None,\n",
            "            max_features=None, max_leaf_nodes=None,\n",
            "            min_impurity_decrease=0.0, min_impurity_split=None,\n",
            "            min_samples_leaf=1, min_samples_split=2,\n",
            "            min_weight_fraction_leaf=0.0, presort=False, random_state=None,\n",
            "            splitter='best') \n",
            "\n",
            "Cross-Validation Accuracy: 0.8169282395330301 \n",
            " \n",
            "\n",
            "RandomForestClassifier(bootstrap=True, class_weight=None, criterion='gini',\n",
            "            max_depth=3, max_features='auto', max_leaf_nodes=None,\n",
            "            min_impurity_decrease=0.0, min_impurity_split=None,\n",
            "            min_samples_leaf=1, min_samples_split=2,\n",
            "            min_weight_fraction_leaf=0.0, n_estimators=100, n_jobs=-1,\n",
            "            oob_score=False, random_state=42, verbose=0, warm_start=False) \n",
            "\n",
            "Cross-Validation Accuracy: 0.8026166104758918 \n",
            " \n",
            "\n",
            "RandomForestClassifier(bootstrap=True, class_weight=None, criterion='gini',\n",
            "            max_depth=None, max_features='auto', max_leaf_nodes=None,\n",
            "            min_impurity_decrease=0.0, min_impurity_split=None,\n",
            "            min_samples_leaf=1, min_samples_split=2,\n",
            "            min_weight_fraction_leaf=0.0, n_estimators=100, n_jobs=-1,\n",
            "            oob_score=False, random_state=42, verbose=0, warm_start=False) \n",
            "\n",
            "Cross-Validation Accuracy: 0.8168668427650465 \n",
            " \n",
            "\n",
            "XGBClassifier(base_score=0.5, booster='gbtree', colsample_bylevel=1,\n",
            "       colsample_bytree=1, gamma=0, learning_rate=0.1, max_delta_step=0,\n",
            "       max_depth=3, min_child_weight=1, missing=None, n_estimators=100,\n",
            "       n_jobs=-1, nthread=None, objective='binary:logistic',\n",
            "       random_state=42, reg_alpha=0, reg_lambda=1, scale_pos_weight=1,\n",
            "       seed=None, silent=True, subsample=1) \n",
            "\n",
            "Cross-Validation Accuracy: 0.8275236948141138 \n",
            " \n",
            "\n"
          ],
          "name": "stdout"
        }
      ]
    },
    {
      "cell_type": "markdown",
      "metadata": {
        "id": "WEy8E-gT37tF",
        "colab_type": "text"
      },
      "source": [
        "So, Gradient Boosting gives the best possible cross-validation accuracy score but this is with fewer features and the engineered features as well. Now, I had trouble engineering features where I would combine string and floats to make a new column so these are not the best features that I could engineer. "
      ]
    },
    {
      "cell_type": "markdown",
      "metadata": {
        "id": "9PUMvx7M4T07",
        "colab_type": "text"
      },
      "source": [
        "##Let's try using most of the features again:##\n"
      ]
    },
    {
      "cell_type": "code",
      "metadata": {
        "id": "_MeuOLie4l_X",
        "colab_type": "code",
        "colab": {
          "base_uri": "https://localhost:8080/",
          "height": 383
        },
        "outputId": "30d32dc8-6695-40e3-dadf-b454f8833f9e"
      },
      "source": [
        "df.head()"
      ],
      "execution_count": 274,
      "outputs": [
        {
          "output_type": "execute_result",
          "data": {
            "text/html": [
              "<div>\n",
              "<style scoped>\n",
              "    .dataframe tbody tr th:only-of-type {\n",
              "        vertical-align: middle;\n",
              "    }\n",
              "\n",
              "    .dataframe tbody tr th {\n",
              "        vertical-align: top;\n",
              "    }\n",
              "\n",
              "    .dataframe thead th {\n",
              "        text-align: right;\n",
              "    }\n",
              "</style>\n",
              "<table border=\"1\" class=\"dataframe\">\n",
              "  <thead>\n",
              "    <tr style=\"text-align: right;\">\n",
              "      <th></th>\n",
              "      <th>age</th>\n",
              "      <th>workclass</th>\n",
              "      <th>fnlwgt</th>\n",
              "      <th>education</th>\n",
              "      <th>education-num</th>\n",
              "      <th>marital-status</th>\n",
              "      <th>occupation</th>\n",
              "      <th>relationship</th>\n",
              "      <th>race</th>\n",
              "      <th>sex</th>\n",
              "      <th>capital-gain</th>\n",
              "      <th>capital-loss</th>\n",
              "      <th>hours-per-week</th>\n",
              "      <th>native-country</th>\n",
              "      <th>income</th>\n",
              "      <th>hard_working</th>\n",
              "      <th>rich</th>\n",
              "    </tr>\n",
              "  </thead>\n",
              "  <tbody>\n",
              "    <tr>\n",
              "      <th>0</th>\n",
              "      <td>39</td>\n",
              "      <td>State-gov</td>\n",
              "      <td>77516</td>\n",
              "      <td>Bachelors</td>\n",
              "      <td>13</td>\n",
              "      <td>Never-married</td>\n",
              "      <td>Adm-clerical</td>\n",
              "      <td>Not-in-family</td>\n",
              "      <td>White</td>\n",
              "      <td>Male</td>\n",
              "      <td>2174</td>\n",
              "      <td>0</td>\n",
              "      <td>40</td>\n",
              "      <td>United-States</td>\n",
              "      <td>&lt;=50K</td>\n",
              "      <td>True</td>\n",
              "      <td>False</td>\n",
              "    </tr>\n",
              "    <tr>\n",
              "      <th>1</th>\n",
              "      <td>50</td>\n",
              "      <td>Self-emp-not-inc</td>\n",
              "      <td>83311</td>\n",
              "      <td>Bachelors</td>\n",
              "      <td>13</td>\n",
              "      <td>Married-civ-spouse</td>\n",
              "      <td>Exec-managerial</td>\n",
              "      <td>Husband</td>\n",
              "      <td>White</td>\n",
              "      <td>Male</td>\n",
              "      <td>0</td>\n",
              "      <td>0</td>\n",
              "      <td>13</td>\n",
              "      <td>United-States</td>\n",
              "      <td>&lt;=50K</td>\n",
              "      <td>False</td>\n",
              "      <td>False</td>\n",
              "    </tr>\n",
              "    <tr>\n",
              "      <th>2</th>\n",
              "      <td>38</td>\n",
              "      <td>Private</td>\n",
              "      <td>215646</td>\n",
              "      <td>HS-grad</td>\n",
              "      <td>9</td>\n",
              "      <td>Divorced</td>\n",
              "      <td>Handlers-cleaners</td>\n",
              "      <td>Not-in-family</td>\n",
              "      <td>White</td>\n",
              "      <td>Male</td>\n",
              "      <td>0</td>\n",
              "      <td>0</td>\n",
              "      <td>40</td>\n",
              "      <td>United-States</td>\n",
              "      <td>&lt;=50K</td>\n",
              "      <td>True</td>\n",
              "      <td>False</td>\n",
              "    </tr>\n",
              "    <tr>\n",
              "      <th>3</th>\n",
              "      <td>53</td>\n",
              "      <td>Private</td>\n",
              "      <td>234721</td>\n",
              "      <td>11th</td>\n",
              "      <td>7</td>\n",
              "      <td>Married-civ-spouse</td>\n",
              "      <td>Handlers-cleaners</td>\n",
              "      <td>Husband</td>\n",
              "      <td>Black</td>\n",
              "      <td>Male</td>\n",
              "      <td>0</td>\n",
              "      <td>0</td>\n",
              "      <td>40</td>\n",
              "      <td>United-States</td>\n",
              "      <td>&lt;=50K</td>\n",
              "      <td>True</td>\n",
              "      <td>False</td>\n",
              "    </tr>\n",
              "    <tr>\n",
              "      <th>4</th>\n",
              "      <td>28</td>\n",
              "      <td>Private</td>\n",
              "      <td>338409</td>\n",
              "      <td>Bachelors</td>\n",
              "      <td>13</td>\n",
              "      <td>Married-civ-spouse</td>\n",
              "      <td>Prof-specialty</td>\n",
              "      <td>Wife</td>\n",
              "      <td>Black</td>\n",
              "      <td>Female</td>\n",
              "      <td>0</td>\n",
              "      <td>0</td>\n",
              "      <td>40</td>\n",
              "      <td>Cuba</td>\n",
              "      <td>&lt;=50K</td>\n",
              "      <td>False</td>\n",
              "      <td>False</td>\n",
              "    </tr>\n",
              "  </tbody>\n",
              "</table>\n",
              "</div>"
            ],
            "text/plain": [
              "   age          workclass  fnlwgt   education  education-num  \\\n",
              "0   39          State-gov   77516   Bachelors             13   \n",
              "1   50   Self-emp-not-inc   83311   Bachelors             13   \n",
              "2   38            Private  215646     HS-grad              9   \n",
              "3   53            Private  234721        11th              7   \n",
              "4   28            Private  338409   Bachelors             13   \n",
              "\n",
              "        marital-status          occupation    relationship    race      sex  \\\n",
              "0        Never-married        Adm-clerical   Not-in-family   White     Male   \n",
              "1   Married-civ-spouse     Exec-managerial         Husband   White     Male   \n",
              "2             Divorced   Handlers-cleaners   Not-in-family   White     Male   \n",
              "3   Married-civ-spouse   Handlers-cleaners         Husband   Black     Male   \n",
              "4   Married-civ-spouse      Prof-specialty            Wife   Black   Female   \n",
              "\n",
              "   capital-gain  capital-loss  hours-per-week  native-country income  \\\n",
              "0          2174             0              40   United-States  <=50K   \n",
              "1             0             0              13   United-States  <=50K   \n",
              "2             0             0              40   United-States  <=50K   \n",
              "3             0             0              40   United-States  <=50K   \n",
              "4             0             0              40            Cuba  <=50K   \n",
              "\n",
              "   hard_working   rich  \n",
              "0          True  False  \n",
              "1         False  False  \n",
              "2          True  False  \n",
              "3          True  False  \n",
              "4         False  False  "
            ]
          },
          "metadata": {
            "tags": []
          },
          "execution_count": 274
        }
      ]
    },
    {
      "cell_type": "code",
      "metadata": {
        "id": "IwAQd3LW4Yz3",
        "colab_type": "code",
        "colab": {
          "base_uri": "https://localhost:8080/",
          "height": 302
        },
        "outputId": "16f77c66-a06c-4af6-de2e-3a3ddbece25a"
      },
      "source": [
        "df.columns.tolist()"
      ],
      "execution_count": 273,
      "outputs": [
        {
          "output_type": "execute_result",
          "data": {
            "text/plain": [
              "['age',\n",
              " 'workclass',\n",
              " 'fnlwgt',\n",
              " 'education',\n",
              " 'education-num',\n",
              " 'marital-status',\n",
              " 'occupation',\n",
              " 'relationship',\n",
              " 'race',\n",
              " 'sex',\n",
              " 'capital-gain',\n",
              " 'capital-loss',\n",
              " 'hours-per-week',\n",
              " 'native-country',\n",
              " 'income',\n",
              " 'hard_working',\n",
              " 'rich']"
            ]
          },
          "metadata": {
            "tags": []
          },
          "execution_count": 273
        }
      ]
    },
    {
      "cell_type": "code",
      "metadata": {
        "id": "D-PVvWV74dIo",
        "colab_type": "code",
        "colab": {}
      },
      "source": [
        "target = 'income'\n",
        "features = ['age',\n",
        " 'workclass',\n",
        " 'education-num',\n",
        " 'marital-status',\n",
        " 'occupation',\n",
        " 'race',\n",
        " 'sex',\n",
        " 'capital-gain',\n",
        " 'capital-loss',\n",
        " 'hours-per-week',\n",
        " 'native-country',\n",
        " 'rich'\n",
        " ]"
      ],
      "execution_count": 0,
      "outputs": []
    },
    {
      "cell_type": "code",
      "metadata": {
        "id": "xwCmDBlT41vr",
        "colab_type": "code",
        "colab": {}
      },
      "source": [
        "y = df[target]\n",
        "X = df[features]"
      ],
      "execution_count": 0,
      "outputs": []
    },
    {
      "cell_type": "code",
      "metadata": {
        "id": "EOw97lJ347I3",
        "colab_type": "code",
        "colab": {}
      },
      "source": [
        "X_train, X_val, y_train, y_val = train_test_split(\n",
        "    X_train, y_train, test_size=0.3, random_state=42, stratify=y_train)"
      ],
      "execution_count": 0,
      "outputs": []
    },
    {
      "cell_type": "code",
      "metadata": {
        "id": "C8Lbg--041rM",
        "colab_type": "code",
        "colab": {
          "base_uri": "https://localhost:8080/",
          "height": 232
        },
        "outputId": "2c7c9714-de47-4cd2-9def-33df68e81139"
      },
      "source": [
        "pipeline = make_pipeline(ce.OrdinalEncoder(), SimpleImputer(), StandardScaler())\n",
        "X_train = pipeline.fit_transform(df[features])\n",
        "X_train = pd.DataFrame(X_train, columns=features)\n",
        "y_train = df[target]\n",
        "X_train.head()"
      ],
      "execution_count": 280,
      "outputs": [
        {
          "output_type": "execute_result",
          "data": {
            "text/html": [
              "<div>\n",
              "<style scoped>\n",
              "    .dataframe tbody tr th:only-of-type {\n",
              "        vertical-align: middle;\n",
              "    }\n",
              "\n",
              "    .dataframe tbody tr th {\n",
              "        vertical-align: top;\n",
              "    }\n",
              "\n",
              "    .dataframe thead th {\n",
              "        text-align: right;\n",
              "    }\n",
              "</style>\n",
              "<table border=\"1\" class=\"dataframe\">\n",
              "  <thead>\n",
              "    <tr style=\"text-align: right;\">\n",
              "      <th></th>\n",
              "      <th>age</th>\n",
              "      <th>workclass</th>\n",
              "      <th>education-num</th>\n",
              "      <th>marital-status</th>\n",
              "      <th>occupation</th>\n",
              "      <th>race</th>\n",
              "      <th>sex</th>\n",
              "      <th>capital-gain</th>\n",
              "      <th>capital-loss</th>\n",
              "      <th>hours-per-week</th>\n",
              "      <th>native-country</th>\n",
              "      <th>rich</th>\n",
              "    </tr>\n",
              "  </thead>\n",
              "  <tbody>\n",
              "    <tr>\n",
              "      <th>0</th>\n",
              "      <td>0.030671</td>\n",
              "      <td>-1.884600</td>\n",
              "      <td>1.134739</td>\n",
              "      <td>-0.866082</td>\n",
              "      <td>-1.378121</td>\n",
              "      <td>-0.353409</td>\n",
              "      <td>-0.703071</td>\n",
              "      <td>0.148453</td>\n",
              "      <td>-0.21666</td>\n",
              "      <td>-0.035429</td>\n",
              "      <td>-0.255746</td>\n",
              "      <td>-0.072446</td>\n",
              "    </tr>\n",
              "    <tr>\n",
              "      <th>1</th>\n",
              "      <td>0.837109</td>\n",
              "      <td>-1.068746</td>\n",
              "      <td>1.134739</td>\n",
              "      <td>-0.066952</td>\n",
              "      <td>-1.082793</td>\n",
              "      <td>-0.353409</td>\n",
              "      <td>-0.703071</td>\n",
              "      <td>-0.145920</td>\n",
              "      <td>-0.21666</td>\n",
              "      <td>-2.222153</td>\n",
              "      <td>-0.255746</td>\n",
              "      <td>-0.072446</td>\n",
              "    </tr>\n",
              "    <tr>\n",
              "      <th>2</th>\n",
              "      <td>-0.042642</td>\n",
              "      <td>-0.252892</td>\n",
              "      <td>-0.420060</td>\n",
              "      <td>0.732178</td>\n",
              "      <td>-0.787465</td>\n",
              "      <td>-0.353409</td>\n",
              "      <td>-0.703071</td>\n",
              "      <td>-0.145920</td>\n",
              "      <td>-0.21666</td>\n",
              "      <td>-0.035429</td>\n",
              "      <td>-0.255746</td>\n",
              "      <td>-0.072446</td>\n",
              "    </tr>\n",
              "    <tr>\n",
              "      <th>3</th>\n",
              "      <td>1.057047</td>\n",
              "      <td>-0.252892</td>\n",
              "      <td>-1.197459</td>\n",
              "      <td>-0.066952</td>\n",
              "      <td>-0.787465</td>\n",
              "      <td>1.240627</td>\n",
              "      <td>-0.703071</td>\n",
              "      <td>-0.145920</td>\n",
              "      <td>-0.21666</td>\n",
              "      <td>-0.035429</td>\n",
              "      <td>-0.255746</td>\n",
              "      <td>-0.072446</td>\n",
              "    </tr>\n",
              "    <tr>\n",
              "      <th>4</th>\n",
              "      <td>-0.775768</td>\n",
              "      <td>-0.252892</td>\n",
              "      <td>1.134739</td>\n",
              "      <td>-0.066952</td>\n",
              "      <td>-0.492138</td>\n",
              "      <td>1.240627</td>\n",
              "      <td>1.422331</td>\n",
              "      <td>-0.145920</td>\n",
              "      <td>-0.21666</td>\n",
              "      <td>-0.035429</td>\n",
              "      <td>-0.057542</td>\n",
              "      <td>-0.072446</td>\n",
              "    </tr>\n",
              "  </tbody>\n",
              "</table>\n",
              "</div>"
            ],
            "text/plain": [
              "        age  workclass  education-num  marital-status  occupation      race  \\\n",
              "0  0.030671  -1.884600       1.134739       -0.866082   -1.378121 -0.353409   \n",
              "1  0.837109  -1.068746       1.134739       -0.066952   -1.082793 -0.353409   \n",
              "2 -0.042642  -0.252892      -0.420060        0.732178   -0.787465 -0.353409   \n",
              "3  1.057047  -0.252892      -1.197459       -0.066952   -0.787465  1.240627   \n",
              "4 -0.775768  -0.252892       1.134739       -0.066952   -0.492138  1.240627   \n",
              "\n",
              "        sex  capital-gain  capital-loss  hours-per-week  native-country  \\\n",
              "0 -0.703071      0.148453      -0.21666       -0.035429       -0.255746   \n",
              "1 -0.703071     -0.145920      -0.21666       -2.222153       -0.255746   \n",
              "2 -0.703071     -0.145920      -0.21666       -0.035429       -0.255746   \n",
              "3 -0.703071     -0.145920      -0.21666       -0.035429       -0.255746   \n",
              "4  1.422331     -0.145920      -0.21666       -0.035429       -0.057542   \n",
              "\n",
              "       rich  \n",
              "0 -0.072446  \n",
              "1 -0.072446  \n",
              "2 -0.072446  \n",
              "3 -0.072446  \n",
              "4 -0.072446  "
            ]
          },
          "metadata": {
            "tags": []
          },
          "execution_count": 280
        }
      ]
    },
    {
      "cell_type": "code",
      "metadata": {
        "id": "zonsZ6mH5JKk",
        "colab_type": "code",
        "colab": {
          "base_uri": "https://localhost:8080/",
          "height": 991
        },
        "outputId": "ffc8e444-2e33-4c36-b5a2-df9d8adedbfd"
      },
      "source": [
        "from sklearn.model_selection import cross_val_score\n",
        "from sklearn.ensemble import RandomForestClassifier\n",
        "\n",
        "models = [LogisticRegression(solver='lbfgs', max_iter=1000), \n",
        "          DecisionTreeClassifier(max_depth=3), \n",
        "          DecisionTreeClassifier(max_depth=None), \n",
        "          RandomForestClassifier(max_depth=3, n_estimators=100, n_jobs=-1, random_state=42), \n",
        "          RandomForestClassifier(max_depth=None, n_estimators=100, n_jobs=-1, random_state=42), \n",
        "          XGBClassifier(max_depth=3, n_estimators=100, n_jobs=-1, random_state=42)]\n",
        "\n",
        "for model in models:\n",
        "    print(model, '\\n')\n",
        "    score = cross_val_score(model, X_train, y_train, scoring='accuracy', cv=5).mean()\n",
        "    print('Cross-Validation Accuracy:', score, '\\n', '\\n')"
      ],
      "execution_count": 281,
      "outputs": [
        {
          "output_type": "stream",
          "text": [
            "LogisticRegression(C=1.0, class_weight=None, dual=False, fit_intercept=True,\n",
            "          intercept_scaling=1, max_iter=1000, multi_class='warn',\n",
            "          n_jobs=None, penalty='l2', random_state=None, solver='lbfgs',\n",
            "          tol=0.0001, verbose=0, warm_start=False) \n",
            "\n",
            "Cross-Validation Accuracy: 0.8266024886533868 \n",
            " \n",
            "\n",
            "DecisionTreeClassifier(class_weight=None, criterion='gini', max_depth=3,\n",
            "            max_features=None, max_leaf_nodes=None,\n",
            "            min_impurity_decrease=0.0, min_impurity_split=None,\n",
            "            min_samples_leaf=1, min_samples_split=2,\n",
            "            min_weight_fraction_leaf=0.0, presort=False, random_state=None,\n",
            "            splitter='best') \n",
            "\n",
            "Cross-Validation Accuracy: 0.8245449047095754 \n",
            " \n",
            "\n",
            "DecisionTreeClassifier(class_weight=None, criterion='gini', max_depth=None,\n",
            "            max_features=None, max_leaf_nodes=None,\n",
            "            min_impurity_decrease=0.0, min_impurity_split=None,\n",
            "            min_samples_leaf=1, min_samples_split=2,\n",
            "            min_weight_fraction_leaf=0.0, presort=False, random_state=None,\n",
            "            splitter='best') \n",
            "\n",
            "Cross-Validation Accuracy: 0.8184023514113334 \n",
            " \n",
            "\n",
            "RandomForestClassifier(bootstrap=True, class_weight=None, criterion='gini',\n",
            "            max_depth=3, max_features='auto', max_leaf_nodes=None,\n",
            "            min_impurity_decrease=0.0, min_impurity_split=None,\n",
            "            min_samples_leaf=1, min_samples_split=2,\n",
            "            min_weight_fraction_leaf=0.0, n_estimators=100, n_jobs=-1,\n",
            "            oob_score=False, random_state=42, verbose=0, warm_start=False) \n",
            "\n",
            "Cross-Validation Accuracy: 0.8241453400136034 \n",
            " \n",
            "\n",
            "RandomForestClassifier(bootstrap=True, class_weight=None, criterion='gini',\n",
            "            max_depth=None, max_features='auto', max_leaf_nodes=None,\n",
            "            min_impurity_decrease=0.0, min_impurity_split=None,\n",
            "            min_samples_leaf=1, min_samples_split=2,\n",
            "            min_weight_fraction_leaf=0.0, n_estimators=100, n_jobs=-1,\n",
            "            oob_score=False, random_state=42, verbose=0, warm_start=False) \n",
            "\n",
            "Cross-Validation Accuracy: 0.8524923409653947 \n",
            " \n",
            "\n",
            "XGBClassifier(base_score=0.5, booster='gbtree', colsample_bylevel=1,\n",
            "       colsample_bytree=1, gamma=0, learning_rate=0.1, max_delta_step=0,\n",
            "       max_depth=3, min_child_weight=1, missing=None, n_estimators=100,\n",
            "       n_jobs=-1, nthread=None, objective='binary:logistic',\n",
            "       random_state=42, reg_alpha=0, reg_lambda=1, scale_pos_weight=1,\n",
            "       seed=None, silent=True, subsample=1) \n",
            "\n",
            "Cross-Validation Accuracy: 0.8613679652601809 \n",
            " \n",
            "\n"
          ],
          "name": "stdout"
        }
      ]
    },
    {
      "cell_type": "code",
      "metadata": {
        "id": "PGKE258b5gJR",
        "colab_type": "code",
        "colab": {
          "base_uri": "https://localhost:8080/",
          "height": 302
        },
        "outputId": "9412cd1a-b59c-41cb-c301-0b6f9bcd3b68"
      },
      "source": [
        "df.columns.tolist()"
      ],
      "execution_count": 282,
      "outputs": [
        {
          "output_type": "execute_result",
          "data": {
            "text/plain": [
              "['age',\n",
              " 'workclass',\n",
              " 'fnlwgt',\n",
              " 'education',\n",
              " 'education-num',\n",
              " 'marital-status',\n",
              " 'occupation',\n",
              " 'relationship',\n",
              " 'race',\n",
              " 'sex',\n",
              " 'capital-gain',\n",
              " 'capital-loss',\n",
              " 'hours-per-week',\n",
              " 'native-country',\n",
              " 'income',\n",
              " 'hard_working',\n",
              " 'rich']"
            ]
          },
          "metadata": {
            "tags": []
          },
          "execution_count": 282
        }
      ]
    },
    {
      "cell_type": "code",
      "metadata": {
        "id": "M85HLKwL5byx",
        "colab_type": "code",
        "colab": {}
      },
      "source": [
        "target = 'income'\n",
        "features = ['age',\n",
        " 'workclass',\n",
        " 'fnlwgt',\n",
        " 'education',\n",
        " 'education-num',\n",
        " 'marital-status',\n",
        " 'occupation',\n",
        " 'relationship',\n",
        " 'race',\n",
        " 'sex',\n",
        " 'capital-gain',\n",
        " 'capital-loss',\n",
        " 'hours-per-week',\n",
        " 'native-country',\n",
        " 'hard_working',\n",
        " 'rich']"
      ],
      "execution_count": 0,
      "outputs": []
    },
    {
      "cell_type": "code",
      "metadata": {
        "id": "UH2WeeQF5lsG",
        "colab_type": "code",
        "colab": {}
      },
      "source": [
        "y = df[target]\n",
        "X = df[features ]"
      ],
      "execution_count": 0,
      "outputs": []
    },
    {
      "cell_type": "code",
      "metadata": {
        "id": "6yj3WBgt5oo6",
        "colab_type": "code",
        "colab": {}
      },
      "source": [
        "X_train, X_val, y_train, y_val = train_test_split(\n",
        "    X_train, y_train, test_size=0.3, random_state=42, stratify=y_train)"
      ],
      "execution_count": 0,
      "outputs": []
    },
    {
      "cell_type": "code",
      "metadata": {
        "id": "xmRnEyNR5aJC",
        "colab_type": "code",
        "colab": {
          "base_uri": "https://localhost:8080/",
          "height": 232
        },
        "outputId": "5758845d-eaa1-4421-be63-3c2ac91cd240"
      },
      "source": [
        "pipeline = make_pipeline(ce.OrdinalEncoder(), SimpleImputer(), StandardScaler())\n",
        "X_train = pipeline.fit_transform(df[features])\n",
        "X_train = pd.DataFrame(X_train, columns=features)\n",
        "y_train = df[target]\n",
        "X_train.head()"
      ],
      "execution_count": 286,
      "outputs": [
        {
          "output_type": "execute_result",
          "data": {
            "text/html": [
              "<div>\n",
              "<style scoped>\n",
              "    .dataframe tbody tr th:only-of-type {\n",
              "        vertical-align: middle;\n",
              "    }\n",
              "\n",
              "    .dataframe tbody tr th {\n",
              "        vertical-align: top;\n",
              "    }\n",
              "\n",
              "    .dataframe thead th {\n",
              "        text-align: right;\n",
              "    }\n",
              "</style>\n",
              "<table border=\"1\" class=\"dataframe\">\n",
              "  <thead>\n",
              "    <tr style=\"text-align: right;\">\n",
              "      <th></th>\n",
              "      <th>age</th>\n",
              "      <th>workclass</th>\n",
              "      <th>fnlwgt</th>\n",
              "      <th>education</th>\n",
              "      <th>education-num</th>\n",
              "      <th>marital-status</th>\n",
              "      <th>occupation</th>\n",
              "      <th>relationship</th>\n",
              "      <th>race</th>\n",
              "      <th>sex</th>\n",
              "      <th>capital-gain</th>\n",
              "      <th>capital-loss</th>\n",
              "      <th>hours-per-week</th>\n",
              "      <th>native-country</th>\n",
              "      <th>hard_working</th>\n",
              "      <th>rich</th>\n",
              "    </tr>\n",
              "  </thead>\n",
              "  <tbody>\n",
              "    <tr>\n",
              "      <th>0</th>\n",
              "      <td>0.030671</td>\n",
              "      <td>-1.884600</td>\n",
              "      <td>-1.063611</td>\n",
              "      <td>-0.991584</td>\n",
              "      <td>1.134739</td>\n",
              "      <td>-0.866082</td>\n",
              "      <td>-1.378121</td>\n",
              "      <td>-1.073040</td>\n",
              "      <td>-0.353409</td>\n",
              "      <td>-0.703071</td>\n",
              "      <td>0.148453</td>\n",
              "      <td>-0.21666</td>\n",
              "      <td>-0.035429</td>\n",
              "      <td>-0.255746</td>\n",
              "      <td>0.863329</td>\n",
              "      <td>-0.072446</td>\n",
              "    </tr>\n",
              "    <tr>\n",
              "      <th>1</th>\n",
              "      <td>0.837109</td>\n",
              "      <td>-1.068746</td>\n",
              "      <td>-1.008707</td>\n",
              "      <td>-0.991584</td>\n",
              "      <td>1.134739</td>\n",
              "      <td>-0.066952</td>\n",
              "      <td>-1.082793</td>\n",
              "      <td>-0.377344</td>\n",
              "      <td>-0.353409</td>\n",
              "      <td>-0.703071</td>\n",
              "      <td>-0.145920</td>\n",
              "      <td>-0.21666</td>\n",
              "      <td>-2.222153</td>\n",
              "      <td>-0.255746</td>\n",
              "      <td>-1.158307</td>\n",
              "      <td>-0.072446</td>\n",
              "    </tr>\n",
              "    <tr>\n",
              "      <th>2</th>\n",
              "      <td>-0.042642</td>\n",
              "      <td>-0.252892</td>\n",
              "      <td>0.245079</td>\n",
              "      <td>-0.702025</td>\n",
              "      <td>-0.420060</td>\n",
              "      <td>0.732178</td>\n",
              "      <td>-0.787465</td>\n",
              "      <td>-1.073040</td>\n",
              "      <td>-0.353409</td>\n",
              "      <td>-0.703071</td>\n",
              "      <td>-0.145920</td>\n",
              "      <td>-0.21666</td>\n",
              "      <td>-0.035429</td>\n",
              "      <td>-0.255746</td>\n",
              "      <td>0.863329</td>\n",
              "      <td>-0.072446</td>\n",
              "    </tr>\n",
              "    <tr>\n",
              "      <th>3</th>\n",
              "      <td>1.057047</td>\n",
              "      <td>-0.252892</td>\n",
              "      <td>0.425801</td>\n",
              "      <td>-0.412467</td>\n",
              "      <td>-1.197459</td>\n",
              "      <td>-0.066952</td>\n",
              "      <td>-0.787465</td>\n",
              "      <td>-0.377344</td>\n",
              "      <td>1.240627</td>\n",
              "      <td>-0.703071</td>\n",
              "      <td>-0.145920</td>\n",
              "      <td>-0.21666</td>\n",
              "      <td>-0.035429</td>\n",
              "      <td>-0.255746</td>\n",
              "      <td>0.863329</td>\n",
              "      <td>-0.072446</td>\n",
              "    </tr>\n",
              "    <tr>\n",
              "      <th>4</th>\n",
              "      <td>-0.775768</td>\n",
              "      <td>-0.252892</td>\n",
              "      <td>1.408176</td>\n",
              "      <td>-0.991584</td>\n",
              "      <td>1.134739</td>\n",
              "      <td>-0.066952</td>\n",
              "      <td>-0.492138</td>\n",
              "      <td>0.318352</td>\n",
              "      <td>1.240627</td>\n",
              "      <td>1.422331</td>\n",
              "      <td>-0.145920</td>\n",
              "      <td>-0.21666</td>\n",
              "      <td>-0.035429</td>\n",
              "      <td>-0.057542</td>\n",
              "      <td>-1.158307</td>\n",
              "      <td>-0.072446</td>\n",
              "    </tr>\n",
              "  </tbody>\n",
              "</table>\n",
              "</div>"
            ],
            "text/plain": [
              "        age  workclass    fnlwgt  education  education-num  marital-status  \\\n",
              "0  0.030671  -1.884600 -1.063611  -0.991584       1.134739       -0.866082   \n",
              "1  0.837109  -1.068746 -1.008707  -0.991584       1.134739       -0.066952   \n",
              "2 -0.042642  -0.252892  0.245079  -0.702025      -0.420060        0.732178   \n",
              "3  1.057047  -0.252892  0.425801  -0.412467      -1.197459       -0.066952   \n",
              "4 -0.775768  -0.252892  1.408176  -0.991584       1.134739       -0.066952   \n",
              "\n",
              "   occupation  relationship      race       sex  capital-gain  capital-loss  \\\n",
              "0   -1.378121     -1.073040 -0.353409 -0.703071      0.148453      -0.21666   \n",
              "1   -1.082793     -0.377344 -0.353409 -0.703071     -0.145920      -0.21666   \n",
              "2   -0.787465     -1.073040 -0.353409 -0.703071     -0.145920      -0.21666   \n",
              "3   -0.787465     -0.377344  1.240627 -0.703071     -0.145920      -0.21666   \n",
              "4   -0.492138      0.318352  1.240627  1.422331     -0.145920      -0.21666   \n",
              "\n",
              "   hours-per-week  native-country  hard_working      rich  \n",
              "0       -0.035429       -0.255746      0.863329 -0.072446  \n",
              "1       -2.222153       -0.255746     -1.158307 -0.072446  \n",
              "2       -0.035429       -0.255746      0.863329 -0.072446  \n",
              "3       -0.035429       -0.255746      0.863329 -0.072446  \n",
              "4       -0.035429       -0.057542     -1.158307 -0.072446  "
            ]
          },
          "metadata": {
            "tags": []
          },
          "execution_count": 286
        }
      ]
    },
    {
      "cell_type": "code",
      "metadata": {
        "id": "oU1TNg4Q5y9q",
        "colab_type": "code",
        "colab": {
          "base_uri": "https://localhost:8080/",
          "height": 991
        },
        "outputId": "cb5622d0-4b97-4031-be72-6ad14db1353e"
      },
      "source": [
        "from sklearn.model_selection import cross_val_score\n",
        "from sklearn.ensemble import RandomForestClassifier\n",
        "\n",
        "models = [LogisticRegression(solver='lbfgs', max_iter=1000), \n",
        "          DecisionTreeClassifier(max_depth=3), \n",
        "          DecisionTreeClassifier(max_depth=None), \n",
        "          RandomForestClassifier(max_depth=3, n_estimators=100, n_jobs=-1, random_state=42), \n",
        "          RandomForestClassifier(max_depth=None, n_estimators=100, n_jobs=-1, random_state=42), \n",
        "          XGBClassifier(max_depth=3, n_estimators=100, n_jobs=-1, random_state=42)]\n",
        "\n",
        "for model in models:\n",
        "    print(model, '\\n')\n",
        "    score = cross_val_score(model, X_train, y_train, scoring='accuracy', cv=5).mean()\n",
        "    print('Cross-Validation Accuracy:', score, '\\n', '\\n')"
      ],
      "execution_count": 287,
      "outputs": [
        {
          "output_type": "stream",
          "text": [
            "LogisticRegression(C=1.0, class_weight=None, dual=False, fit_intercept=True,\n",
            "          intercept_scaling=1, max_iter=1000, multi_class='warn',\n",
            "          n_jobs=None, penalty='l2', random_state=None, solver='lbfgs',\n",
            "          tol=0.0001, verbose=0, warm_start=False) \n",
            "\n",
            "Cross-Validation Accuracy: 0.8297657237028494 \n",
            " \n",
            "\n",
            "DecisionTreeClassifier(class_weight=None, criterion='gini', max_depth=3,\n",
            "            max_features=None, max_leaf_nodes=None,\n",
            "            min_impurity_decrease=0.0, min_impurity_split=None,\n",
            "            min_samples_leaf=1, min_samples_split=2,\n",
            "            min_weight_fraction_leaf=0.0, presort=False, random_state=None,\n",
            "            splitter='best') \n",
            "\n",
            "Cross-Validation Accuracy: 0.8245449047095754 \n",
            " \n",
            "\n",
            "DecisionTreeClassifier(class_weight=None, criterion='gini', max_depth=None,\n",
            "            max_features=None, max_leaf_nodes=None,\n",
            "            min_impurity_decrease=0.0, min_impurity_split=None,\n",
            "            min_samples_leaf=1, min_samples_split=2,\n",
            "            min_weight_fraction_leaf=0.0, presort=False, random_state=None,\n",
            "            splitter='best') \n",
            "\n",
            "Cross-Validation Accuracy: 0.8112466005430077 \n",
            " \n",
            "\n",
            "RandomForestClassifier(bootstrap=True, class_weight=None, criterion='gini',\n",
            "            max_depth=3, max_features='auto', max_leaf_nodes=None,\n",
            "            min_impurity_decrease=0.0, min_impurity_split=None,\n",
            "            min_samples_leaf=1, min_samples_split=2,\n",
            "            min_weight_fraction_leaf=0.0, n_estimators=100, n_jobs=-1,\n",
            "            oob_score=False, random_state=42, verbose=0, warm_start=False) \n",
            "\n",
            "Cross-Validation Accuracy: 0.818279515435204 \n",
            " \n",
            "\n",
            "RandomForestClassifier(bootstrap=True, class_weight=None, criterion='gini',\n",
            "            max_depth=None, max_features='auto', max_leaf_nodes=None,\n",
            "            min_impurity_decrease=0.0, min_impurity_split=None,\n",
            "            min_samples_leaf=1, min_samples_split=2,\n",
            "            min_weight_fraction_leaf=0.0, n_estimators=100, n_jobs=-1,\n",
            "            oob_score=False, random_state=42, verbose=0, warm_start=False) \n",
            "\n",
            "Cross-Validation Accuracy: 0.8564541206756775 \n",
            " \n",
            "\n",
            "XGBClassifier(base_score=0.5, booster='gbtree', colsample_bylevel=1,\n",
            "       colsample_bytree=1, gamma=0, learning_rate=0.1, max_delta_step=0,\n",
            "       max_depth=3, min_child_weight=1, missing=None, n_estimators=100,\n",
            "       n_jobs=-1, nthread=None, objective='binary:logistic',\n",
            "       random_state=42, reg_alpha=0, reg_lambda=1, scale_pos_weight=1,\n",
            "       seed=None, silent=True, subsample=1) \n",
            "\n",
            "Cross-Validation Accuracy: 0.8626272025972626 \n",
            " \n",
            "\n"
          ],
          "name": "stdout"
        }
      ]
    },
    {
      "cell_type": "code",
      "metadata": {
        "id": "Lk07XjOy60Ig",
        "colab_type": "code",
        "colab": {}
      },
      "source": [
        "import matplotlib.pyplot as plt"
      ],
      "execution_count": 0,
      "outputs": []
    },
    {
      "cell_type": "code",
      "metadata": {
        "id": "_27nnuzl6rud",
        "colab_type": "code",
        "colab": {
          "base_uri": "https://localhost:8080/",
          "height": 1601
        },
        "outputId": "070fae7a-0808-4bd0-8e63-28e503dd1d86"
      },
      "source": [
        "for model in models:\n",
        "    name = model.__class__.__name__\n",
        "    model.fit(X_train, y_train)\n",
        "    if name == 'LogisticRegression':\n",
        "        coefficients = pd.Series(model.coef_[0], X_train.columns)\n",
        "        coefficients.sort_values().plot.barh(color='coral', title=name)\n",
        "        plt.show()\n",
        "    else:\n",
        "        importances = pd.Series(model.feature_importances_, X_train.columns)\n",
        "        title = f'{name}, max_depth={model.max_depth}'\n",
        "        importances.sort_values().plot.barh(color='coral', title=title)\n",
        "        plt.show()"
      ],
      "execution_count": 292,
      "outputs": [
        {
          "output_type": "display_data",
          "data": {
            "image/png": "[encoded data removed]",
            "text/plain": [
              "<Figure size 432x288 with 1 Axes>"
            ]
          },
          "metadata": {
            "tags": []
          }
        },
        {
          "output_type": "display_data",
          "data": {
            "image/png": "[encoded data removed]",
            "text/plain": [
              "<Figure size 432x288 with 1 Axes>"
            ]
          },
          "metadata": {
            "tags": []
          }
        },
        {
          "output_type": "display_data",
          "data": {
            "image/png": "[encoded data removed]",
            "text/plain": [
              "<Figure size 432x288 with 1 Axes>"
            ]
          },
          "metadata": {
            "tags": []
          }
        },
        {
          "output_type": "display_data",
          "data": {
            "image/png": "[encoded data removed]",
            "text/plain": [
              "<Figure size 432x288 with 1 Axes>"
            ]
          },
          "metadata": {
            "tags": []
          }
        },
        {
          "output_type": "display_data",
          "data": {
            "image/png": "[encoded data removed]",
            "text/plain": [
              "<Figure size 432x288 with 1 Axes>"
            ]
          },
          "metadata": {
            "tags": []
          }
        },
        {
          "output_type": "display_data",
          "data": {
            "image/png": "[encoded data removed]",
            "text/plain": [
              "<Figure size 432x288 with 1 Axes>"
            ]
          },
          "metadata": {
            "tags": []
          }
        }
      ]
    },
    {
      "cell_type": "markdown",
      "metadata": {
        "id": "O9lmAhmj528A",
        "colab_type": "text"
      },
      "source": [
        "So, using more or most of the features in the dataset does increase the accuracy score but it is not at the 100% that I would like it to be. I need to figure out why I kept getting the error when engineering features so that we can further increase the accuracy score. \n"
      ]
    },
    {
      "cell_type": "markdown",
      "metadata": {
        "id": "DaqCVkWIAD7B",
        "colab_type": "text"
      },
      "source": [
        "Feature Selection, Feature engineer, \n",
        "\n",
        "###try engineering features "
      ]
    },
    {
      "cell_type": "markdown",
      "metadata": {
        "id": "g1M09kRHADw7",
        "colab_type": "text"
      },
      "source": [
        ""
      ]
    }
  ]
}